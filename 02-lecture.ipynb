{
 "cells": [
  {
   "cell_type": "markdown",
   "metadata": {},
   "source": [
    "# Lecture 2: Invertibility and Minimum phase system"
   ]
  },
  {
   "cell_type": "markdown",
   "metadata": {},
   "source": [
    "**Definition:** An LTI system $H(z)$ with input $x[n]$ and output $y[n]$ is said to be invertible if we can uniquely determine $x[n]$ from $y[n]$. In other words, there has to be a one-to-one mapping between input and output for each sample."
   ]
  },
  {
   "cell_type": "markdown",
   "metadata": {},
   "source": [
    "**Definition:** A stable-causal system has a stable-causal inverse if and only if all poles and zeros are inside the unit circle $|z| = 1$."
   ]
  },
  {
   "cell_type": "markdown",
   "metadata": {},
   "source": [
    "**Definition:** A causal and stable LTI system with a causal and stable inverse is known as a **minimum-phase system**."
   ]
  },
  {
   "cell_type": "markdown",
   "metadata": {},
   "source": [
    "We can write any rational system function that does not have zeros on the unit circle as:\n",
    "\n",
    "$$\n",
    "H(z) = H_{min}(z) H_{AP}(z)\n",
    "$$\n",
    "where $H_{min}(z)$ is the mini"
   ]
  },
  {
   "cell_type": "markdown",
   "metadata": {},
   "source": [
    "To factor"
   ]
  },
  {
   "cell_type": "code",
   "execution_count": null,
   "metadata": {},
   "outputs": [],
   "source": []
  }
 ],
 "metadata": {
  "kernelspec": {
   "display_name": "Python 3",
   "language": "python",
   "name": "python3"
  },
  "language_info": {
   "codemirror_mode": {
    "name": "ipython",
    "version": 3
   },
   "file_extension": ".py",
   "mimetype": "text/x-python",
   "name": "python",
   "nbconvert_exporter": "python",
   "pygments_lexer": "ipython3",
   "version": "3.7.1"
  }
 },
 "nbformat": 4,
 "nbformat_minor": 2
}
