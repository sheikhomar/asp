{
 "cells": [
  {
   "cell_type": "markdown",
   "metadata": {},
   "source": [
    "# Week 1: Recap on $z$-transform"
   ]
  },
  {
   "cell_type": "code",
   "execution_count": 1,
   "metadata": {},
   "outputs": [
    {
     "data": {
      "text/html": [
       "<style type=\"text/css\">.summary {\n",
       "  border: solid 1px green !important;\n",
       "  background: #cdffd8 !important;\n",
       "  padding: 10px !important;\n",
       "  border-radius: 2px !important;\n",
       "}\n",
       "\n",
       ".insight {\n",
       "  border: solid 1px green !important;\n",
       "  background: #cdffd8 !important;\n",
       "  padding: 10px !important;\n",
       "  border-radius: 2px !important;\n",
       "}\n",
       "\n",
       ".extra {\n",
       "  border: solid 1px green !important;\n",
       "  --background: #cdffd8 !important;\n",
       "  padding: 10px !important;\n",
       "  border-radius: 2px !important;\n",
       "  padding-left: 80px !important;\n",
       "  background: #cdffd8 url(/files/figures/extra-info.png) no-repeat !important;\n",
       "  background-image: url(/files/figures/extra-info.png) !important;\n",
       "  min-height: 60px !important;\n",
       "  background-position: 5px 5px !important; \n",
       "}\n",
       "\n",
       ".warning {\n",
       "  border: solid 1px #8a6d3b !important;\n",
       "  background: #fcf8e3 !important;\n",
       "  padding: 10px !important;\n",
       "  border-radius: 2px !important;\n",
       "}\n",
       "\n",
       ".green {\n",
       "  color: #006600 !important;\n",
       "}\n",
       "\n",
       ".red {\n",
       "  color: #cc0000 !important;\n",
       "}\n",
       "\n",
       ".simplex-tableaux {\n",
       "    font-size: 13pt !important;\n",
       "}\n",
       "\n",
       ".last-row td {\n",
       "    border-top: solid 1px Black !important;\n",
       "}\n",
       "\n",
       ".smallest-value {\n",
       "    background-color: Green !important;\n",
       "    color: White !important;\n",
       "    font-weight: bold !important;\n",
       "}</style>Stylesheet \"styles.css\" loaded."
      ],
      "text/plain": [
       "<IPython.core.display.HTML object>"
      ]
     },
     "metadata": {},
     "output_type": "display_data"
    }
   ],
   "source": [
    "import numpy as np\n",
    "import sympy as sy\n",
    "import scipy.signal as sig\n",
    "\n",
    "import matplotlib.pyplot as plt\n",
    "\n",
    "import utils as utils\n",
    "\n",
    "%matplotlib inline\n",
    "\n",
    "sy.init_printing()\n",
    "utils.load_custom_styles()"
   ]
  },
  {
   "cell_type": "markdown",
   "metadata": {},
   "source": [
    "## Definition of $z$-transform"
   ]
  },
  {
   "cell_type": "markdown",
   "metadata": {},
   "source": [
    "An finite-length signal of size $L$ $x[n]$ can be represented by the relation:\n",
    "\n",
    "$$\n",
    "x[n] = \\sum_{k = 0}^{L-1} x[k] \\delta[n-k]\n",
    "$$\n",
    "\n",
    "Since $n$ is the independent variable, we say that the formula represents the signal in the $n$-domain or in the time-domain because $n$ is an index that counts time."
   ]
  },
  {
   "cell_type": "markdown",
   "metadata": {},
   "source": [
    "The $z$-transform of the above sequence $x[n]$, denoted $X(n)$, can be computed as follows:\n",
    "\n",
    "$$\n",
    "X(z) = \\sum_{k = 0}^{L-1} x[k] z^{-k}\n",
    "$$\n",
    "where the independent variable $z$ is a complex number."
   ]
  },
  {
   "cell_type": "markdown",
   "metadata": {},
   "source": [
    "To emphasise that $X(z)$ is just a polynomial of degree $L-1$ in the variable $z^{-1}$, the $z$-transform can be written as:\n",
    "\n",
    "$$\n",
    "X(z) = \\sum_{k = 0}^{L-1} x[k] \\left(z^{-1}\\right)^{k}\n",
    "$$"
   ]
  },
  {
   "cell_type": "markdown",
   "metadata": {},
   "source": [
    "## General $z$-transform Formula"
   ]
  },
  {
   "cell_type": "markdown",
   "metadata": {},
   "source": [
    "We can extend the $z$-transform definition for signals of infinite length:\n",
    "\n",
    "$$\n",
    "X(z) = \\sum_{n = -\\infty}^{\\infty} x[n] \\left(z^{-1}\\right)^{n}\n",
    "$$"
   ]
  },
  {
   "cell_type": "markdown",
   "metadata": {},
   "source": [
    "The above $z$-transform is **bidirectional** because the summation is from $-\\infty$ to $\\infty$. If the sum start from $n=0$ then we have **unidirectional** $z$-transform."
   ]
  },
  {
   "cell_type": "markdown",
   "metadata": {},
   "source": [
    "## Region of Convergence (ROC)"
   ]
  },
  {
   "cell_type": "markdown",
   "metadata": {},
   "source": [
    "The general $z$-transform formula comes with an issue. Summing an infinite number of complex terms could result in an infinite result (known as **divergence**). \n",
    "\n",
    "We know it geometric series. A geometric series is said to **converge** if the sum is a finite value. When the sum goes to postive or negative infinity, then we say that the series **diverges**. An infinite geometric series will converge if the absolute value of the common ratio $r$ is between zero and one i.e., $0 > |r| < 1$"
   ]
  },
  {
   "cell_type": "markdown",
   "metadata": {},
   "source": [
    "For any given sequence $x[n]$, the set of values of $z$ for which the sum converges (i.e., the sum is a finite value) is known as the **region of convergence** (ROC) of the $z$-transform. The $z$-transform is only defined for only part of the complex $z$-plane."
   ]
  },
  {
   "cell_type": "markdown",
   "metadata": {},
   "source": [
    "<div class=\"extra\">\n",
    "<p>\n",
    "    ROC gives us the values of $z$ for which the $z$-transform exists or is defined. This means that $X(z)$ is not defined outside the region of convergence even if the formula for $X(z)$ returns some results for these values.\n",
    "</p> \n",
    "<p>\n",
    "  To uniquely specify a sequence $x[n]$, we need both $X(z)$ and its ROC. This means that the $z$-transform of a sequences consists of two things:\n",
    "</p> \n",
    "<ul>\n",
    "    <li>an algebraic formula, and</li>\n",
    "    <li>its associated ROC</li>\n",
    "  </ul>\n",
    "\n",
    "</div>"
   ]
  },
  {
   "cell_type": "markdown",
   "metadata": {},
   "source": [
    "## Universal $z$-transform properties"
   ]
  },
  {
   "cell_type": "markdown",
   "metadata": {},
   "source": [
    "The $z$-transform is a linear transformation because it satisifies the superposition (adding and scaling) property.\n",
    "\n",
    "<img src=\"figures/lecture-01/z-transform-property-linearity.png\" width=\"600\" />\n",
    "\n",
    "\n",
    "\n",
    "\n",
    "\n",
    "\n",
    "\n"
   ]
  },
  {
   "cell_type": "markdown",
   "metadata": {},
   "source": [
    "A delay of one sample in the time domain corresponds to the multiplication by the quantity $z^{-1}$ in the $z$ domain. Similarly, delay of $k$ samples in the time domain corresponds to the multiplication by the quantity $z^{-k}$ in the $z$ domain\n",
    "\n",
    "<img src=\"figures/lecture-01/z-transform-property-time-shifting.png\" width=\"600\" />\n",
    "\n",
    "\n",
    "\n",
    "\n",
    "\n",
    "\n",
    "\n"
   ]
  },
  {
   "cell_type": "markdown",
   "metadata": {},
   "source": [
    "Convolution of two signals in the time-domain corresponds to the multiplication of corresponding $z$-transforms:\n",
    "\n",
    "<img src=\"figures/lecture-01/z-transform-property-convolution.png\" width=\"600\" />\n",
    "\n",
    "\n"
   ]
  },
  {
   "cell_type": "markdown",
   "metadata": {},
   "source": [
    "Other properties include:"
   ]
  },
  {
   "cell_type": "markdown",
   "metadata": {},
   "source": [
    "\n",
    "<img src=\"figures/lecture-01/z-transform-property-table.png\" width=\"600\" />\n",
    "\n",
    "\n",
    "\n",
    "\n",
    "\n",
    "\n",
    "\n",
    "\n",
    "\n",
    "\n",
    "\n",
    "\n",
    "\n",
    "\n",
    "\n"
   ]
  },
  {
   "cell_type": "markdown",
   "metadata": {},
   "source": [
    "## The $z$-transform of FIR filter"
   ]
  },
  {
   "cell_type": "markdown",
   "metadata": {},
   "source": [
    "There are two ways to obtain a $z$-domain representation of a general FIR filter:\n",
    "1. Take the $z$-transform of the FIR difference equation\n",
    "2. Take the $z$-transform of the impulse response"
   ]
  },
  {
   "cell_type": "markdown",
   "metadata": {},
   "source": [
    "The general differnece equation of an FIR filter:\n",
    "$$\n",
    "y[n] = \\sum_{k=0}^{M} b_k x[n-k]\n",
    "$$"
   ]
  },
  {
   "cell_type": "markdown",
   "metadata": {},
   "source": [
    "The time shift property says that $x[n-k]$ in the time-domain corresponds to $z^{-k} X(z)$ in the $z$-domain. The linearity property tells us that the same scaling coefficients $b_k$ and sum will be used in the $z$-domain. As a result we get:"
   ]
  },
  {
   "cell_type": "markdown",
   "metadata": {},
   "source": [
    "<img src=\"figures/lecture-01/z-transform-fir-filter.png\" width=\"500\" />\n",
    "\n",
    "\n",
    "\n",
    "\n",
    "\n",
    "\n"
   ]
  },
  {
   "cell_type": "markdown",
   "metadata": {},
   "source": [
    "where $H(z)$ is called the **system function** or **transfer function**:"
   ]
  },
  {
   "cell_type": "markdown",
   "metadata": {},
   "source": [
    "$$\n",
    "H(z) = \\sum_{k=0}^{M} b_k z^{-k} =  \\sum_{k=0}^{M} b_k (z^{-1})^k\n",
    "$$"
   ]
  },
  {
   "cell_type": "markdown",
   "metadata": {},
   "source": [
    "The **system function** $H(z)$ of an FIR filter is a $z$-domain function that depends solely on the filter coefficients."
   ]
  },
  {
   "cell_type": "markdown",
   "metadata": {},
   "source": [
    "## Roots of $z$-Transform Polynomial"
   ]
  },
  {
   "cell_type": "markdown",
   "metadata": {},
   "source": [
    "The system function $H(z)$ is a function of the complex variable $z$ and $M$th degree polynomial in the variable $z^{-1}$. Therefore, $H(z)$ has exactly $M$ roots."
   ]
  },
  {
   "cell_type": "markdown",
   "metadata": {},
   "source": [
    "We can express $H(z)$ in terms of its roots:\n",
    "\n",
    "$$\n",
    "H(z) = G \\prod_{k=1}^{M} \\left(1 - z_k z^{-1} \\right) = G \\prod_{k=1}^{M} \\frac{z-z_k}{z}\n",
    "$$\n",
    "where $G$ is a constant."
   ]
  },
  {
   "cell_type": "markdown",
   "metadata": {},
   "source": [
    "The first-degree term $z-z_k$ in the right-hand product makes it clear that these roots are also zeros. Let us first expand the product:\n",
    "\n",
    "$$\n",
    "H(z) = G \\frac{(z-z_0)(z-z_1)\\cdots(z-z_M)}{z^M}\n",
    "$$\n",
    "\n",
    "Now if we pick the value $z_1$ for $z$ then the first product $(z-z_0)=0$ will be zero. Therefore, the numerator will be zero which means that $H(z) = 0$. Hence, the values $z_1, z_2, \\cdots, z_M$ are called **zeros** because these value make the transfer function be zero $H(z_k) = 0$."
   ]
  },
  {
   "cell_type": "markdown",
   "metadata": {},
   "source": [
    "## Pole-zero representation of a system"
   ]
  },
  {
   "cell_type": "markdown",
   "metadata": {},
   "source": [
    "We can express $H(z)$ in terms of its zeros and poles:\n",
    "\n",
    "$$\n",
    "H(z) = G \\frac{(z-z_0)(z-z_1)\\cdots(z-z_M)}{ (z-p_1)(z-p_2)\\cdots(z-p_M) }\n",
    "$$\n",
    "\n",
    "where $G$ is a constant and $p_1, p_2, \\cdots, p_M$ are called the **poles** of the system."
   ]
  },
  {
   "cell_type": "markdown",
   "metadata": {},
   "source": [
    "## Zeros and poles"
   ]
  },
  {
   "cell_type": "markdown",
   "metadata": {},
   "source": [
    "The values of $z$ for which $X(z) = 0$ are called **zeros**."
   ]
  },
  {
   "cell_type": "markdown",
   "metadata": {},
   "source": [
    "The values of $z$ for which $X(z)$ is infinite are called **poles**."
   ]
  },
  {
   "cell_type": "markdown",
   "metadata": {},
   "source": [
    "Since the ROC corresponds to values of $z$ for which $X(z)$ is finite, ROC does not include any poles."
   ]
  },
  {
   "cell_type": "markdown",
   "metadata": {},
   "source": [
    "<div class=\"insight\">\n",
    "<strong>Why do we even compute the zeros and poles?</strong>\n",
    "<ul>\n",
    "    <li>\n",
    "        Zeros tell which $z$ values are filtered out. For example, we can remove or filter out certain complex exponential components of the input signal. If our transfer function $H(z_k) = 0$ for some $z_k$ then the corresponding exponential sequence does *not* pass through the system. In this case, $z_k$ is a zero.\n",
    "    </li>\n",
    "    <li>\n",
    "        Poles tell us which $z$ components of the input signal are passed through.\n",
    "    </li>\n",
    "</ul>\n",
    "</div>"
   ]
  },
  {
   "cell_type": "markdown",
   "metadata": {},
   "source": [
    "<img src=\"figures/lecture-01/figure-3.2.png\" width=\"700\" />\n"
   ]
  },
  {
   "cell_type": "markdown",
   "metadata": {},
   "source": [
    "## Plotting z-plane"
   ]
  },
  {
   "cell_type": "markdown",
   "metadata": {},
   "source": [
    "The `zplane` function takes the numerator and denominator polynomial representation of a transfer function and plots the complex z-plane poles and zeros.\n",
    "\n",
    "$$\n",
    "H(z) = \\frac{b_0 + b_1z^{-1} + \\cdots b_N z^{-N}}{a_0 + a_1z^{-1} + \\cdots a_N z^{-N}}\n",
    "$$\n",
    "\n",
    "Polynomials are usually represented least order coefficient to the highest order coefficient.\n",
    "\n",
    "Example:\n",
    "\n",
    "$$\n",
    "H(z) = \\frac{z^{-1} + z^{-2}}{1+ 1/4z^{-1} - 3/8 z^{-2}}\n",
    "$$"
   ]
  },
  {
   "cell_type": "code",
   "execution_count": 4,
   "metadata": {},
   "outputs": [
    {
     "data": {
      "image/png": "[encoded data removed]",
      "text/plain": [
       "<Figure size 1080x720 with 1 Axes>"
      ]
     },
     "metadata": {
      "needs_background": "light"
     },
     "output_type": "display_data"
    }
   ],
   "source": [
    "z, p, k = utils.zplane([0, 1, 1], [1, 1/4, -3/8])"
   ]
  },
  {
   "cell_type": "markdown",
   "metadata": {},
   "source": [
    "## Eigenfunctions of LTI systems"
   ]
  },
  {
   "cell_type": "markdown",
   "metadata": {},
   "source": [
    "In general, any signal that passes through an LTI system changes its shape. However, the complex exponential sequence retains its shape.\n",
    "\n",
    "The complex exponential sequence is given as:\n",
    "$$\n",
    "x[n] = z^{n}\n",
    "$$\n",
    "where $z$ is a complex variable."
   ]
  },
  {
   "cell_type": "markdown",
   "metadata": {},
   "source": [
    "Given an LTI system with the the **system function** or **transfer function** $H(z)$, the output signal is given by:\n",
    "\n",
    "$$\n",
    "y[n] = H(z) z^{n}\n",
    "$$"
   ]
  },
  {
   "cell_type": "markdown",
   "metadata": {},
   "source": [
    "This means that the output sequence is the input sequence multiplied by the function value $H(z)$."
   ]
  },
  {
   "cell_type": "markdown",
   "metadata": {},
   "source": [
    "Complex exponential sequences $z^{n}$ are **eigenfunctions** of LTI systems because their shape do not change when passing through an LTI system."
   ]
  },
  {
   "cell_type": "markdown",
   "metadata": {},
   "source": [
    "The value of $H(z)$ is the **eigenvalue** associated with the eigenfunction $z^{n}$."
   ]
  },
  {
   "cell_type": "markdown",
   "metadata": {},
   "source": [
    "## Motivation for the $z$-transform"
   ]
  },
  {
   "cell_type": "markdown",
   "metadata": {},
   "source": [
    "Given an LTI system with the the **system function** or **transfer function** $H(z)$, the output signal is given by:\n",
    "\n",
    "$$\n",
    "y[n] = H(z) z^{n}\n",
    "$$"
   ]
  },
  {
   "cell_type": "markdown",
   "metadata": {},
   "source": [
    "If we can express an input signal to an LTI system as a linear combination of complex exponentials, i.e.,\n",
    "\n",
    "$$\n",
    "x[n] = \\sum_{k} c_k z_k^{n}, \\text{ for all } n\n",
    "$$"
   ]
  },
  {
   "cell_type": "markdown",
   "metadata": {},
   "source": [
    "then because of the linearity property, the output will be:\n",
    "\n",
    "$$\n",
    "y[n] = \\sum_{k} c_k H(z_k) z_k^n\n",
    "$$"
   ]
  },
  {
   "cell_type": "markdown",
   "metadata": {},
   "source": [
    "This allows us to analyse the system in a different way. For example, we can remove or filter out certain complex exponential components of the input signal. If $H(z_k) = 0$ for some $z_k$ then the corresponding exponential sequence does *not* pass through the system."
   ]
  },
  {
   "cell_type": "markdown",
   "metadata": {},
   "source": [
    "So the $z$-transform is a tool to decompose any signal as a linear combination of complex exponentials. This allows to understand, analyse and design LTI systems. In addition, it provides insight into LTI systems' effect on input signal.\n"
   ]
  },
  {
   "cell_type": "markdown",
   "metadata": {},
   "source": [
    "## Understanding $z$"
   ]
  },
  {
   "cell_type": "markdown",
   "metadata": {},
   "source": [
    "A complex number $z=r e^{j\\omega}$ can be visualised as a point in the complex plane."
   ]
  },
  {
   "cell_type": "markdown",
   "metadata": {},
   "source": [
    "<img src=\"figures/lecture-01/points-in-the-complex-plane.png\" width=\"800\" />\n"
   ]
  },
  {
   "cell_type": "markdown",
   "metadata": {},
   "source": [
    "Notice that $r = |z|$"
   ]
  },
  {
   "cell_type": "markdown",
   "metadata": {},
   "source": [
    "## Example 3.4: z-transform of the causal exponential sequence"
   ]
  },
  {
   "cell_type": "markdown",
   "metadata": {},
   "source": [
    "Let us compute the $z$-transform and the ROC of the causal exponential sequence:"
   ]
  },
  {
   "cell_type": "markdown",
   "metadata": {},
   "source": [
    "$$\n",
    "x[n] = a^{n} u[n]\n",
    "$$"
   ]
  },
  {
   "cell_type": "markdown",
   "metadata": {},
   "source": [
    "where $u[n]$ is the unit step sequence."
   ]
  },
  {
   "cell_type": "markdown",
   "metadata": {},
   "source": [
    "Step 1: plug the sequence into the $x$-transform:\n",
    "\n",
    "$$\n",
    "X(z) = \\sum_{n = - \\infty}^{\\infty} a^n u[n] z^{-n}\n",
    "$$"
   ]
  },
  {
   "cell_type": "markdown",
   "metadata": {},
   "source": [
    "Step 2: since the unit step sequence is zero $u[n]=0$ when $n < 0$ then we can safely ignore the summation from $-\\infty$ to $0$. Also when $n \\leq 0$ then $u[n]=1$ so we can simply remove ignore the unit step sequence all together:\n",
    "\n",
    "$$\n",
    "X(z) = \\sum_{n = 0}^{\\infty} a^n z^{-n}\n",
    "$$"
   ]
  },
  {
   "cell_type": "markdown",
   "metadata": {},
   "source": [
    "Step 3: to make it easier to find the common ratio $r$, we should rearrange the product inside the summation so we get something like $c (r)^{n}$ where $c$ is some constant. To do that we can rewrite the expression:\n",
    "\n",
    "$$\n",
    "X(z) = \\sum_{n = 0}^{\\infty} (a z^{-1})^n\n",
    "$$"
   ]
  },
  {
   "cell_type": "markdown",
   "metadata": {},
   "source": [
    "Step 4: now we just need to generate the sum. The first term is 1 because when $n=0$ then $(az^{-1})^0=1$. The second term is $(az^{-1})^1$. And so on:\n",
    "\n",
    "$$\n",
    "X(z) = 1 + az^{-1} + (az^{-1})^2 + \\cdots\n",
    "$$"
   ]
  },
  {
   "cell_type": "markdown",
   "metadata": {},
   "source": [
    "Step 5: since the sum is infinte, we can use following formula when the common ratio is less than 1:\n",
    "\n",
    "$$\n",
    "\\frac{\\text{first term}}{1- \\text{common ratio}}\n",
    "$$\n",
    "So the $z$-transform is:\n",
    "$$\n",
    "X(z) = \\frac{1}{1-az^{-1}}\n",
    "$$\n",
    "\n",
    "The formula can only be used when the common ratio $|r| < 1$. In this exercise, this means that $|az^{-1}|<1$ or $|a/z|<1$."
   ]
  },
  {
   "cell_type": "markdown",
   "metadata": {},
   "source": [
    "We can use the condition to compute the ROC. We know the condition $\\mid \\frac{a}{z} \\mid$ when $|z| > |a|$. Therefore, the ROC is $|z| > |a|$"
   ]
  },
  {
   "cell_type": "markdown",
   "metadata": {},
   "source": [
    "There is a zero at $z=0$ because:\n",
    "$$\n",
    "X(z) = \\frac{1}{1-az^{-1}} = \\frac{z}{z-a}\n",
    "$$"
   ]
  },
  {
   "cell_type": "code",
   "execution_count": 2,
   "metadata": {},
   "outputs": [
    {
     "data": {
      "image/png": "[encoded data removed]",
      "text/latex": [
       "$$\\frac{z}{- a + z}$$"
      ],
      "text/plain": [
       "  z   \n",
       "──────\n",
       "-a + z"
      ]
     },
     "execution_count": 2,
     "metadata": {},
     "output_type": "execute_result"
    }
   ],
   "source": [
    "a,z = sy.symbols('a,z')\n",
    "f = 1/(1- a * z**(-1))\n",
    "sy.simplify(f)"
   ]
  },
  {
   "cell_type": "markdown",
   "metadata": {},
   "source": [
    "Figure 3.3. visualises the causal exponential sequence and the ROC for different values of $a$."
   ]
  },
  {
   "cell_type": "markdown",
   "metadata": {},
   "source": [
    "<img src=\"figures/lecture-01/figure-3.3.png\" width=\"700\" />\n"
   ]
  },
  {
   "cell_type": "code",
   "execution_count": null,
   "metadata": {},
   "outputs": [],
   "source": []
  },
  {
   "cell_type": "markdown",
   "metadata": {},
   "source": [
    "## Common $z$-transform pairs"
   ]
  },
  {
   "cell_type": "markdown",
   "metadata": {},
   "source": [
    "<img src=\"figures/lecture-01/table-3.1-common-z-transform-pairs.png\" width=\"800\" />\n"
   ]
  },
  {
   "cell_type": "markdown",
   "metadata": {},
   "source": [
    "## Properties of $z$-transforms"
   ]
  },
  {
   "cell_type": "markdown",
   "metadata": {},
   "source": [
    "- The ROC cannot include any poles\n",
    "- The ROC is a single contigous region\n",
    "- For finite duration sequences, the ROC is the entire $z$-place except $z=0$ or $z=\\infty$\n",
    "- For infinite duration sequences the ROC can have one of the following shapes (page 98):\n",
    "\n",
    "<img src=\"figures/lecture-01/types-and-roc-infinite-sequences.png\" width=\"350\" />\n"
   ]
  },
  {
   "cell_type": "markdown",
   "metadata": {},
   "source": [
    "## Representation of polynomials in Python"
   ]
  },
  {
   "cell_type": "code",
   "execution_count": 3,
   "metadata": {},
   "outputs": [
    {
     "data": {
      "image/png": "[encoded data removed]",
      "text/latex": [
       "$$1 + \\frac{2}{z} + \\frac{3}{z^{3}}$$"
      ],
      "text/plain": [
       "    2   3 \n",
       "1 + ─ + ──\n",
       "    z    3\n",
       "        z "
      ]
     },
     "execution_count": 3,
     "metadata": {},
     "output_type": "execute_result"
    }
   ],
   "source": [
    "z = sy.symbols('z', complex=True)\n",
    "B = 1+2*z**(-1) + 3 * z**(-3)\n",
    "B"
   ]
  },
  {
   "cell_type": "code",
   "execution_count": 4,
   "metadata": {},
   "outputs": [],
   "source": [
    "roots = sy.solve(B, z)"
   ]
  },
  {
   "cell_type": "code",
   "execution_count": null,
   "metadata": {},
   "outputs": [],
   "source": []
  }
 ],
 "metadata": {
  "kernelspec": {
   "display_name": "Python 3",
   "language": "python",
   "name": "python3"
  },
  "language_info": {
   "codemirror_mode": {
    "name": "ipython",
    "version": 3
   },
   "file_extension": ".py",
   "mimetype": "text/x-python",
   "name": "python",
   "nbconvert_exporter": "python",
   "pygments_lexer": "ipython3",
   "version": "3.7.1"
  }
 },
 "nbformat": 4,
 "nbformat_minor": 2
}
