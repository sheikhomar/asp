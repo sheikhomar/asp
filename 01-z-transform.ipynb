{
 "cells": [
  {
   "cell_type": "markdown",
   "metadata": {},
   "source": [
    "# Week 1: Recap on $z$-transform"
   ]
  },
  {
   "cell_type": "markdown",
   "metadata": {},
   "source": [
    "## Convergence vs Divergence of geometric series"
   ]
  },
  {
   "cell_type": "markdown",
   "metadata": {},
   "source": [
    "A geometric series is said to **converge** if the sum is a finite value. When the sum goes to postive or negative infinity, then we say that the series **diverges**. An infinite geometric series will converge if the absolute value of the common ratio $r$ is between zero and one i.e., $0 > |r| < 1$"
   ]
  },
  {
   "cell_type": "markdown",
   "metadata": {},
   "source": [
    "## Eigenfunctions of LTI systems"
   ]
  },
  {
   "cell_type": "markdown",
   "metadata": {},
   "source": [
    "In general, any signal that passes through an LTI system changes its shape. However, the complex exponential sequence retains its shape.\n",
    "\n",
    "The complex exponential sequence is given as:\n",
    "$$\n",
    "x[n] = z^{n}\n",
    "$$\n",
    "where $z=r e^{j\\omega}$ is a complex number."
   ]
  },
  {
   "cell_type": "markdown",
   "metadata": {},
   "source": [
    "Given an LTI system with the frequency response $H(z)$ (also known as the **system function** or **transfer function**), the output signal is given by:\n",
    "\n",
    "$$\n",
    "y[n] = H(z) z^{n}\n",
    "$$"
   ]
  },
  {
   "cell_type": "markdown",
   "metadata": {},
   "source": [
    "Complex exponential sequences $z^{n}$ are **eigenfunctions** of LTI systems because their shape do not change when passing through an LTI system."
   ]
  },
  {
   "cell_type": "markdown",
   "metadata": {},
   "source": [
    "The value of $H(z)$ is the **eigenvalue** associated with the eigenfunction $z^{n}$."
   ]
  },
  {
   "cell_type": "markdown",
   "metadata": {},
   "source": [
    "## Motivation for the $z$-transform"
   ]
  },
  {
   "cell_type": "markdown",
   "metadata": {},
   "source": [
    "If we express any input signal to an LTI system as a linear combination of complex exponentials"
   ]
  },
  {
   "cell_type": "code",
   "execution_count": null,
   "metadata": {},
   "outputs": [],
   "source": []
  }
 ],
 "metadata": {
  "kernelspec": {
   "display_name": "Python 3",
   "language": "python",
   "name": "python3"
  },
  "language_info": {
   "codemirror_mode": {
    "name": "ipython",
    "version": 3
   },
   "file_extension": ".py",
   "mimetype": "text/x-python",
   "name": "python",
   "nbconvert_exporter": "python",
   "pygments_lexer": "ipython3",
   "version": "3.6.6"
  }
 },
 "nbformat": 4,
 "nbformat_minor": 2
}
