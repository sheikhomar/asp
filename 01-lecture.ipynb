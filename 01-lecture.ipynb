{
 "cells": [
  {
   "cell_type": "markdown",
   "metadata": {},
   "source": [
    "# Lecture 1: Distortion of signals passing through LTI systems"
   ]
  },
  {
   "cell_type": "code",
   "execution_count": 5,
   "metadata": {},
   "outputs": [
    {
     "data": {
      "text/html": [
       "<style type=\"text/css\">.summary {\n",
       "  border: solid 1px green !important;\n",
       "  background: #cdffd8 !important;\n",
       "  padding: 10px !important;\n",
       "  border-radius: 2px !important;\n",
       "}\n",
       "\n",
       ".insight {\n",
       "  border: solid 1px green !important;\n",
       "  background: #cdffd8 !important;\n",
       "  padding: 10px !important;\n",
       "  border-radius: 2px !important;\n",
       "}\n",
       "\n",
       ".extra {\n",
       "  border: solid 1px green !important;\n",
       "  --background: #cdffd8 !important;\n",
       "  padding: 10px !important;\n",
       "  border-radius: 2px !important;\n",
       "  padding-left: 80px !important;\n",
       "  background: #cdffd8 url(/files/figures/extra-info.png) no-repeat !important;\n",
       "  background-image: url(/files/figures/extra-info.png) !important;\n",
       "  min-height: 60px !important;\n",
       "  background-position: 5px 5px !important; \n",
       "}\n",
       "\n",
       ".warning {\n",
       "  border: solid 1px #8a6d3b !important;\n",
       "  background: #fcf8e3 !important;\n",
       "  padding: 10px !important;\n",
       "  border-radius: 2px !important;\n",
       "}\n",
       "\n",
       ".green {\n",
       "  color: #006600 !important;\n",
       "}\n",
       "\n",
       ".red {\n",
       "  color: #cc0000 !important;\n",
       "}\n",
       "\n",
       ".simplex-tableaux {\n",
       "    font-size: 13pt !important;\n",
       "}\n",
       "\n",
       ".last-row td {\n",
       "    border-top: solid 1px Black !important;\n",
       "}\n",
       "\n",
       ".smallest-value {\n",
       "    background-color: Green !important;\n",
       "    color: White !important;\n",
       "    font-weight: bold !important;\n",
       "}</style>Stylesheet \"styles.css\" loaded."
      ],
      "text/plain": [
       "<IPython.core.display.HTML object>"
      ]
     },
     "metadata": {},
     "output_type": "display_data"
    }
   ],
   "source": [
    "import utils as utils\n",
    "\n",
    "utils.load_custom_styles()"
   ]
  },
  {
   "cell_type": "markdown",
   "metadata": {},
   "source": [
    "## Magnitude response (gain)"
   ]
  },
  {
   "cell_type": "markdown",
   "metadata": {},
   "source": [
    "The quantity $\\mid H(e^{j\\omega}) \\mid$ is known as the **magnitude response** or the **gain** of the system. When the gain $\\mid H(e^{j\\omega}) \\mid$  is very small (close to zero) at a given frequency $\\omega=\\omega_0$ then that frequnecy component is filtered out (removed) from the input signal."
   ]
  },
  {
   "cell_type": "markdown",
   "metadata": {},
   "source": [
    "<div class=\"extra\">\n",
    "For this reason, LTI systems are often called filters. However, it is more appropriate to use the term filter for LTI systems designed to remove some frequency components from the input signal. These ideas are illustrated in the following example.\n",
    "</div>"
   ]
  },
  {
   "cell_type": "markdown",
   "metadata": {},
   "source": [
    "## Phase response"
   ]
  },
  {
   "cell_type": "markdown",
   "metadata": {},
   "source": [
    "The quantity $\\angle H(e^{j\\omega})$ is called the **phase response** of the system. The phase response describes the phase shift that the system applies to each frequency component of the input signal. "
   ]
  },
  {
   "cell_type": "markdown",
   "metadata": {},
   "source": [
    "<div class=\"extra\">\n",
    "Given an LTI system's frequency response $H(e^{j\\omega})$, we can plot the magnitude response and the phase response in order to observe how the system changes the amplitude and the phase of input signals at different frequencies.\n",
    "</div>"
   ]
  },
  {
   "cell_type": "markdown",
   "metadata": {},
   "source": [
    "## Magnitude distortion"
   ]
  },
  {
   "cell_type": "markdown",
   "metadata": {},
   "source": [
    "An LTI system is said to introduce **magnitude distortion** if the system applies unequal amount of amplification or attenuation to the different frequency components present in the input signal."
   ]
  },
  {
   "cell_type": "markdown",
   "metadata": {},
   "source": [
    "Formally, we say that a system introduces magnitude distoration if\n",
    "\n",
    "$$\n",
    "|H(e^{j\\omega})| \\neq G\n",
    "$$"
   ]
  },
  {
   "cell_type": "markdown",
   "metadata": {},
   "source": [
    "where $G$ is a constant."
   ]
  },
  {
   "cell_type": "markdown",
   "metadata": {},
   "source": [
    "### Allpass systems"
   ]
  },
  {
   "cell_type": "markdown",
   "metadata": {},
   "source": [
    "Systems without magnitude distortion are known as **allpass systems**:\n",
    " - Allpass systems have a \"flat\" magnitude response.\n",
    " - Allpass systems can be completely described by their phase response."
   ]
  },
  {
   "cell_type": "markdown",
   "metadata": {},
   "source": [
    "## Phase or delay distoration"
   ]
  },
  {
   "cell_type": "markdown",
   "metadata": {},
   "source": [
    "An LTI system is said to introduce **phase distortion** if the system applies unequal amount of time delays to the different frequency components present in the input signal."
   ]
  },
  {
   "cell_type": "markdown",
   "metadata": {},
   "source": [
    "Formally, we say that a system introduces phase/delay distortion if the phase response is not a linear function of the frequency $\\omega$:\n",
    "\n",
    "$$\n",
    " \\angle H(e^{j\\omega})    \\neq -n_d \\omega \n",
    "$$"
   ]
  },
  {
   "cell_type": "markdown",
   "metadata": {},
   "source": [
    "where $n_d$ is a constant."
   ]
  },
  {
   "cell_type": "markdown",
   "metadata": {},
   "source": [
    "A nonlinear phase response may lead to the \"shape\" of the signal being changed significantly."
   ]
  },
  {
   "cell_type": "markdown",
   "metadata": {},
   "source": [
    "<div class=\"extra\">\n",
    "Although, we have discussed magnitude and phase distortions separately, it is almost impossible to separate the effects of magnitude distortions and phase distorations.\n",
    "</div>"
   ]
  },
  {
   "cell_type": "markdown",
   "metadata": {},
   "source": [
    "## Distortionless response systems"
   ]
  },
  {
   "cell_type": "markdown",
   "metadata": {},
   "source": [
    "An LTI system is said to have distortionless response if the system applies the same amount of amplification or attenuation *and* phase shifts to the different frequency components present in the input signal."
   ]
  },
  {
   "cell_type": "markdown",
   "metadata": {},
   "source": [
    "Formally, an LTI system is distortionless if:\n",
    "\n",
    "**(1)** the magnitude response $\\mid H(e^{j\\omega}) \\mid$ is constant\n",
    "\n",
    "$$\n",
    " |H(e^{j\\omega})| = G\n",
    "$$\n",
    "where $G$ is constant.\n",
    "\n",
    "**(2)** the phase response $\\angle H(e^{j\\omega})$ is a linear function of $\\omega$ with slope $-n_d$ that passes through the origin $\\omega=0$:\n",
    "\n",
    "$$\n",
    " \\angle H(e^{j\\omega})    = -n_d \\omega \n",
    "$$\n",
    "where $n_d$ are constants."
   ]
  },
  {
   "cell_type": "markdown",
   "metadata": {},
   "source": []
  },
  {
   "cell_type": "code",
   "execution_count": null,
   "metadata": {},
   "outputs": [],
   "source": []
  }
 ],
 "metadata": {
  "kernelspec": {
   "display_name": "Python 3",
   "language": "python",
   "name": "python3"
  },
  "language_info": {
   "codemirror_mode": {
    "name": "ipython",
    "version": 3
   },
   "file_extension": ".py",
   "mimetype": "text/x-python",
   "name": "python",
   "nbconvert_exporter": "python",
   "pygments_lexer": "ipython3",
   "version": "3.6.6"
  }
 },
 "nbformat": 4,
 "nbformat_minor": 2
}
