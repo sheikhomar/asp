{
 "cells": [
  {
   "cell_type": "markdown",
   "metadata": {
    "toc-hr-collapsed": false
   },
   "source": [
    "# Lecture 1: Distortion of signals passing through LTI systems"
   ]
  },
  {
   "cell_type": "code",
   "execution_count": 1,
   "metadata": {},
   "outputs": [
    {
     "data": {
      "text/html": [
       "<style type=\"text/css\">.summary {\n",
       "  border: solid 1px green !important;\n",
       "  background: #cdffd8 !important;\n",
       "  padding: 10px !important;\n",
       "  border-radius: 2px !important;\n",
       "}\n",
       "\n",
       ".insight {\n",
       "  border: solid 1px green !important;\n",
       "  background: #cdffd8 !important;\n",
       "  padding: 10px !important;\n",
       "  border-radius: 2px !important;\n",
       "}\n",
       "\n",
       ".extra {\n",
       "  border: solid 1px green !important;\n",
       "  --background: #cdffd8 !important;\n",
       "  padding: 10px !important;\n",
       "  border-radius: 2px !important;\n",
       "  padding-left: 80px !important;\n",
       "  background: #cdffd8 url(/files/figures/extra-info.png) no-repeat !important;\n",
       "  background-image: url(/files/figures/extra-info.png) !important;\n",
       "  min-height: 60px !important;\n",
       "  background-position: 5px 5px !important; \n",
       "}\n",
       "\n",
       ".warning {\n",
       "  border: solid 1px #8a6d3b !important;\n",
       "  background: #fcf8e3 !important;\n",
       "  padding: 10px !important;\n",
       "  border-radius: 2px !important;\n",
       "}\n",
       "\n",
       ".green {\n",
       "  color: #006600 !important;\n",
       "}\n",
       "\n",
       ".red {\n",
       "  color: #cc0000 !important;\n",
       "}\n",
       "\n",
       ".simplex-tableaux {\n",
       "    font-size: 13pt !important;\n",
       "}\n",
       "\n",
       ".last-row td {\n",
       "    border-top: solid 1px Black !important;\n",
       "}\n",
       "\n",
       ".smallest-value {\n",
       "    background-color: Green !important;\n",
       "    color: White !important;\n",
       "    font-weight: bold !important;\n",
       "}</style>Stylesheet \"styles.css\" loaded."
      ],
      "text/plain": [
       "<IPython.core.display.HTML object>"
      ]
     },
     "metadata": {},
     "output_type": "display_data"
    }
   ],
   "source": [
    "import utils as utils\n",
    "\n",
    "utils.load_custom_styles()"
   ]
  },
  {
   "cell_type": "markdown",
   "metadata": {},
   "source": [
    "## Recap"
   ]
  },
  {
   "cell_type": "markdown",
   "metadata": {},
   "source": [
    "Typically, we think LTI systems just as filters. \n",
    "\n",
    "$$\n",
    "y[n] = \\sum_{k=0}^{M-1} h[n] x[n-k]\n",
    "$$\n",
    "where $h[n]$ is the impulse respose and $M$ is the number of weights."
   ]
  },
  {
   "cell_type": "markdown",
   "metadata": {},
   "source": [
    "The output of a filter is the linear combination of previous samples of the input signal $x[n]$ multiplied by the weights $h[n]$."
   ]
  },
  {
   "cell_type": "markdown",
   "metadata": {},
   "source": [
    "This is the time domain. Signals in the real world occurs in the time domain. However, it is more convenient and easier to analyse signals in the $z$-domain or the in the frequency domain."
   ]
  },
  {
   "cell_type": "markdown",
   "metadata": {},
   "source": [
    "If we take the $z$-transform of the impulse response, we get the system function or the transfer function:\n",
    "\n",
    "$$\n",
    "H(z) = \\sum_{n=-\\infty}^{\\infty} h[n] z^{-n}\n",
    "$$"
   ]
  },
  {
   "cell_type": "markdown",
   "metadata": {},
   "source": [
    "In practice, we typically have a finite-length impulse response of length $M$. This means that most of the terms in the infinite sum will be zero and disappear."
   ]
  },
  {
   "cell_type": "markdown",
   "metadata": {},
   "source": [
    "We can go from the system function (which is in the $z$-domain) to the Fourier domain just by evaluating the system function for $z=e^{j\\omega}$:\n",
    "\n",
    "$$\n",
    "H(e^{j\\omega}) = H(z) \\biggr\\rvert_{z=e^{j\\omega}} = \\sum_{n=-\\infty}^{\\infty} h[n] e^{-j\\omega n}\n",
    "$$\n",
    "where $H(e^{j\\omega})$ is called the frequency response. This describes the impulse function in the frequency domain. The quantity $e^{j\\omega}$ is a complex function of $\\omega$."
   ]
  },
  {
   "cell_type": "markdown",
   "metadata": {},
   "source": [
    "<div class=\"extra\">\n",
    "In other words, the frequency response is equal to a system function evaluated on the unit circle.\n",
    "</div>"
   ]
  },
  {
   "cell_type": "markdown",
   "metadata": {
    "toc-hr-collapsed": true
   },
   "source": [
    "## Distortionless systems"
   ]
  },
  {
   "cell_type": "markdown",
   "metadata": {},
   "source": [
    "Basically, a distortionless system does not have any kind of distortion as we send signal though the system. Why are focusing on these system? Because there is a different way of analysing this kind of system than we have seen previously."
   ]
  },
  {
   "cell_type": "markdown",
   "metadata": {},
   "source": [
    "Let us describe a distortionless system. To have a distortion-free system, the \"shape\" of the output signal (shape in the time domain) to be identical to the shape the input signal:\n",
    "\n",
    "$$\n",
    "y[n] = G x[n - n_d]\n",
    "$$\n",
    "\n",
    "where $G$ is a positive number i.e. $G > 0$. This system is simply scaling the system by $G$ and delaying the signal.\n",
    "\n",
    "For example, if we put through a square-wave signal to this system, the output is also a square-waved signal. However, the output signal may be delayed by $n_d$ and the amplitude may be larger or smaller depending on $G$."
   ]
  },
  {
   "cell_type": "markdown",
   "metadata": {},
   "source": [
    "### Frequency Analysis"
   ]
  },
  {
   "cell_type": "markdown",
   "metadata": {},
   "source": [
    "In order to better understand distortionless system, let us describe the transfer function such system. To do this, we need to perform a Fourier transform:\n",
    "\n",
    "$$\n",
    "Y(e^{j\\omega}) = G e^{-j\\omega n_d} X(e^{j\\omega})\n",
    "$$\n",
    "\n",
    "What have we done?\n",
    "- The Fourier transform is a linear operator so if we multiply by a number in the time-domain, the same number is multiplied in the frequency domain.\n",
    "- A delay by $n_d$ in the time-domain $x[n-n_d]$ corresponds to $e^{-j\\omega n_d} X(e^{j\\omega})$."
   ]
  },
  {
   "cell_type": "markdown",
   "metadata": {},
   "source": [
    "Table 4.4 provides more operations:"
   ]
  },
  {
   "cell_type": "markdown",
   "metadata": {},
   "source": [
    "<img src=\"figures/lecture-01/table-4.4-fourier-transform.png\" width=\"600\" />\n",
    "\n",
    "\n",
    "\n"
   ]
  },
  {
   "cell_type": "markdown",
   "metadata": {},
   "source": [
    "### System Function of Distortionless Systems"
   ]
  },
  {
   "cell_type": "markdown",
   "metadata": {},
   "source": [
    "Since we have the relationship between the input and the output in the Fourier domain, we can now compute the system function or the transfer function of a distortionless system:\n",
    "\n",
    "$$\n",
    "H(e^{j\\omega}) = \\frac{Y(e^{j\\omega})}{ X(e^{j\\omega})} = G e^{-j\\omega n_d}\n",
    "$$"
   ]
  },
  {
   "cell_type": "markdown",
   "metadata": {},
   "source": [
    "Let us now consider what are the properties of distortionless systems. To do this, we need to compute the manitude response and phase response of the system."
   ]
  },
  {
   "cell_type": "markdown",
   "metadata": {},
   "source": [
    "### Magnitude response (gain)"
   ]
  },
  {
   "cell_type": "markdown",
   "metadata": {},
   "source": [
    "The quantity $\\mid H(e^{j\\omega}) \\mid$ is known as the **magnitude response** or the **gain** of the system. The gain describes how much is the specific frequency $\\omega$ of the input signal amplified or attenuated.\n",
    "\n",
    "When the gain $\\mid H(e^{j\\omega}) \\mid$  is very small (close to zero) at a given frequency $\\omega=\\omega_0$ then that frequency component is filtered out (removed) from the input signal."
   ]
  },
  {
   "cell_type": "markdown",
   "metadata": {},
   "source": [
    "<div class=\"extra\">\n",
    "\n",
    "For this reason, LTI systems are often called filters. However, it is more appropriate to use the term filter for LTI systems designed to remove some frequency components from the input signal.\n",
    "</div>"
   ]
  },
  {
   "cell_type": "markdown",
   "metadata": {},
   "source": [
    "### Computing Magnitude Response"
   ]
  },
  {
   "cell_type": "markdown",
   "metadata": {},
   "source": [
    "So how do we go about computing the magnitude response?"
   ]
  },
  {
   "cell_type": "markdown",
   "metadata": {},
   "source": [
    "First, we need to represent the transfer function into the frequency domain. This can be done in two ways depending on the given signal:\n",
    "- Given a signal in the time-domain $h[n]$ , we perform Fourier analysis\n",
    "- Given a signal in the $z$-domain $H(z)$, we can evaluate the signal for $z=e^{j\\omega}$."
   ]
  },
  {
   "cell_type": "markdown",
   "metadata": {},
   "source": [
    "The magnitude response of our distortionless system is $G$:\n",
    "\n",
    "$$\n",
    "| H(e^{j\\omega}) | = G\n",
    "$$"
   ]
  },
  {
   "cell_type": "markdown",
   "metadata": {},
   "source": [
    "This means that in order to have a distortionless system, all frequency components must be amplified or attenuated by the same amount."
   ]
  },
  {
   "cell_type": "markdown",
   "metadata": {},
   "source": [
    "### Magnitude distortion"
   ]
  },
  {
   "cell_type": "markdown",
   "metadata": {},
   "source": [
    "An LTI system is said to introduce **magnitude distortion** if the system applies unequal amount of amplification or attenuation to the different frequency components present in the input signal. For example, if a system attenuates any frequency below 1 KHz by a some factor $k$ and frequencies above by a different factor $5k$ then the system is said to introduce magnitude distortion."
   ]
  },
  {
   "cell_type": "markdown",
   "metadata": {},
   "source": [
    "Formally, we say that a system introduces magnitude distoration if\n",
    "\n",
    "$$\n",
    "|H(e^{j\\omega})| \\neq G\n",
    "$$"
   ]
  },
  {
   "cell_type": "markdown",
   "metadata": {},
   "source": [
    "where $G$ is a constant."
   ]
  },
  {
   "cell_type": "markdown",
   "metadata": {},
   "source": [
    "### Phase response"
   ]
  },
  {
   "cell_type": "markdown",
   "metadata": {},
   "source": [
    "The quantity $\\angle H(e^{j\\omega})$ is called the **phase response** of the system. The phase response describes the phase shift that the system applies to each frequency component of the input signal. "
   ]
  },
  {
   "cell_type": "markdown",
   "metadata": {},
   "source": [
    "<div class=\"extra\">\n",
    "Given an LTI system's frequency response $H(e^{j\\omega})$, we can plot the magnitude response and the phase response in order to observe how the system changes the amplitude and the phase of input signals at different frequencies.\n",
    "</div>"
   ]
  },
  {
   "cell_type": "markdown",
   "metadata": {},
   "source": [
    "The phase response of our distortionless system is:\n",
    "\n",
    "$$\n",
    "\\angle H(e^{j\\omega}) = -n_d \\omega  \n",
    "$$"
   ]
  },
  {
   "cell_type": "markdown",
   "metadata": {},
   "source": [
    "The phase response of the distortionless system is a **linear function** of the frequency $\\omega$. Plotting the function, we will observe that the line passes through the origin and the slope is $-n_d$."
   ]
  },
  {
   "cell_type": "markdown",
   "metadata": {},
   "source": [
    "<div class=\"extra\">\n",
    "Basically, the more the system delays the input signal, the larger is the phase that is added to the output signal. As long as the phase is a linear function, the system will not distort the input signal.\n",
    "</div>"
   ]
  },
  {
   "cell_type": "markdown",
   "metadata": {},
   "source": [
    "## Characterising Phase Response"
   ]
  },
  {
   "cell_type": "markdown",
   "metadata": {},
   "source": [
    "There are several ways of characterising the phase response of LTI systems. The frequency response of an LTI system describes how the system acts as a function of frequency:\n",
    "\n",
    "$$\n",
    "H(e^{j\\omega}) = |H(e^{j\\omega})| e^{j \\angle  H(e^{j\\omega})}\n",
    "$$\n",
    "\n",
    "In other words, if a sinusoid of a certain frequency comes in, a sinusoid goes out at the same frequency but its amplitude is changed by $|H(e^{j\\omega})|$ and phase is shifted by $\\angle H(e^{j\\omega})$"
   ]
  },
  {
   "cell_type": "markdown",
   "metadata": {},
   "source": [
    "**1)** We can represent the phase response as the quantity $\\angle H(e^{j\\omega})$. However, this quantity is not uniquely defined. \n",
    "\n",
    "We can write the phase as:\n",
    "$$\n",
    "e^{j \\angle H(e^{j\\omega})}\n",
    "$$\n",
    "\n",
    "A sinusoidal signal shifted by a multiple of $2 \\pi$ is the same as the original signal:\n",
    "\n",
    "$$\n",
    "e^{j \\angle H(e^{j\\omega})} =\n",
    "e^{j (\\angle H(e^{j\\omega}) + m 2 \\pi)}\n",
    "$$\n",
    "\n",
    "where $m$ is an integer.\n",
    "\n"
   ]
  },
  {
   "cell_type": "markdown",
   "metadata": {},
   "source": [
    "This means that added an integer multiple of $2 \\pi$ results in the same phase. So the phases are not unique."
   ]
  },
  {
   "cell_type": "markdown",
   "metadata": {},
   "source": [
    "**2) Principle value** of the phase is defined as being within the following range:\n",
    "\n",
    "$$\n",
    "- \\pi < \\text{ARG} \\left [ H(e^{j\\omega})  \\right]  < \\pi\n",
    "$$"
   ]
  },
  {
   "cell_type": "markdown",
   "metadata": {},
   "source": [
    "The value ARG$\\left[ H(e^{j\\omega}) \\right]$ is a value that is computed numerically. If the phase response exceeds the above limit, the function $\\text{ARG} \\left [ H(e^{j\\omega})  \\right]$ is discontiunous. "
   ]
  },
  {
   "cell_type": "markdown",
   "metadata": {},
   "source": [
    "If we take the principal value of the phase, we get the green curves:"
   ]
  },
  {
   "cell_type": "markdown",
   "metadata": {},
   "source": [
    "<img src=\"figures/lecture-01/principal-value-plot.png\" width=\"400\" />\n",
    "\n",
    "\n",
    "\n",
    "\n"
   ]
  },
  {
   "cell_type": "markdown",
   "metadata": {},
   "source": [
    "**3) Unwrapped phase** denoted arg$[ H(e^{j\\omega})]$"
   ]
  },
  {
   "cell_type": "markdown",
   "metadata": {},
   "source": [
    "<img src=\"figures/lecture-01/unwrapped-phase.png\" width=\"400\" />\n",
    "\n",
    "\n",
    "\n",
    "\n"
   ]
  },
  {
   "cell_type": "markdown",
   "metadata": {},
   "source": [
    "Notice that the unwrapped phase represents the phase as continuous function where the jumps in the principal values are removed. In other words, by unwrapping the phase, we removes the jumps of $2 \\pi$."
   ]
  },
  {
   "cell_type": "markdown",
   "metadata": {},
   "source": [
    "### Phase or delay distoration"
   ]
  },
  {
   "cell_type": "markdown",
   "metadata": {},
   "source": [
    "An LTI system is said to introduce **phase distortion** if the system applies unequal amount of time delays to the different frequency components present in the input signal."
   ]
  },
  {
   "cell_type": "markdown",
   "metadata": {},
   "source": [
    "Formally, we say that a system introduces phase/delay distortion if the phase response is not a linear function of the frequency $\\omega$:\n",
    "\n",
    "$$\n",
    " \\angle H(e^{j\\omega})    \\neq -n_d \\omega \n",
    "$$"
   ]
  },
  {
   "cell_type": "markdown",
   "metadata": {},
   "source": [
    "where $n_d$ is a constant."
   ]
  },
  {
   "cell_type": "markdown",
   "metadata": {},
   "source": [
    "A nonlinear phase response may lead to the \"shape\" of the signal being changed significantly."
   ]
  },
  {
   "cell_type": "markdown",
   "metadata": {},
   "source": [
    "<div class=\"extra\">\n",
    "Although, we have discussed magnitude and phase distortions separately, it is almost impossible to separate the effects of magnitude distortions and phase distorations.\n",
    "</div>"
   ]
  },
  {
   "cell_type": "markdown",
   "metadata": {},
   "source": [
    "### Summary of Distortionless Systems"
   ]
  },
  {
   "cell_type": "markdown",
   "metadata": {},
   "source": [
    "Basically, a distortionless system does not have any kind of distortion as we send signal though the system. Why are focusing on these system? Because there is a different way of analysing this kind of system than we have seen previously."
   ]
  },
  {
   "cell_type": "markdown",
   "metadata": {},
   "source": [
    "An LTI system is said to have distortionless response if the system applies the same amount of amplification or attenuation *and* phase shifts to the different frequency components present in the input signal."
   ]
  },
  {
   "cell_type": "markdown",
   "metadata": {},
   "source": [
    "Formally, an LTI system is distortionless if:\n",
    "\n",
    "**(1)** the magnitude response $\\mid H(e^{j\\omega}) \\mid$ is constant\n",
    "\n",
    "$$\n",
    " |H(e^{j\\omega})| = G\n",
    "$$\n",
    "where $G$ is constant.\n",
    "\n",
    "**(2)** the phase response $\\angle H(e^{j\\omega})$ is a linear function of $\\omega$ with slope $-n_d$ that passes through the origin $\\omega=0$:\n",
    "\n",
    "$$\n",
    " \\angle H(e^{j\\omega})    = -n_d \\omega \n",
    "$$\n",
    "where $n_d$ are constants."
   ]
  },
  {
   "cell_type": "markdown",
   "metadata": {},
   "source": [
    "Note the slope $n_d$ can be obtained by (phase delay):\n",
    "\n",
    "$$\n",
    "n_d = \\frac{-\\angle H(e^{j\\omega})}{ \\omega}\n",
    "$$"
   ]
  },
  {
   "cell_type": "markdown",
   "metadata": {},
   "source": [
    "Assuming that the phase response is continuous function, we can obtain the slope $n_d$ by derivative (group delay):\n",
    "\n",
    "$$\n",
    "n_d = - \\frac{d \\angle H(e^{j\\omega})}{d \\omega}\n",
    "$$"
   ]
  },
  {
   "cell_type": "markdown",
   "metadata": {},
   "source": [
    "<div class=\"extra\">\n",
    "This means that for distortionless system the phase delay and the group delay are the same.\n",
    "</div>"
   ]
  },
  {
   "cell_type": "markdown",
   "metadata": {},
   "source": [
    "## Phase Delay"
   ]
  },
  {
   "cell_type": "markdown",
   "metadata": {},
   "source": [
    "The phase response $\\angle H(e^{j\\omega})$ describes the phase shift (in radians) applied to each sinusoidal component of the input signal. Sometimes, it is more meaningful to use the **phase delay**."
   ]
  },
  {
   "cell_type": "markdown",
   "metadata": {},
   "source": [
    "The phase delay is a function of frequency which is defined as:"
   ]
  },
  {
   "cell_type": "markdown",
   "metadata": {},
   "source": [
    "$$\n",
    "\\tau_{pd}(\\omega) \\equiv \\frac{- \\angle H(e^{j\\omega}) }{ \\omega }\n",
    "$$"
   ]
  },
  {
   "cell_type": "markdown",
   "metadata": {},
   "source": [
    "This function allows us to compute the phase delay of any given frequency. "
   ]
  },
  {
   "cell_type": "markdown",
   "metadata": {},
   "source": [
    "#### Example"
   ]
  },
  {
   "cell_type": "markdown",
   "metadata": {},
   "source": [
    "The following signal approximates a rectangular pulse:\n",
    "\n",
    "$$\n",
    "x[n] = \\cos(\\omega_0 n) - \\frac{1}{3} \\cos(3 \\omega_0 n )+ \\frac{1}{5} \\cos(5 \\omega_0 n )\n",
    "$$\n",
    "\n",
    "The plot of the signal:\n",
    "\n",
    "<img src=\"figures/lecture-01/pulse-signal.png\" width=\"400\" />\n",
    "\n",
    "\n",
    "\n",
    "\n"
   ]
  },
  {
   "cell_type": "markdown",
   "metadata": {},
   "source": [
    "Now, let us assume that we have a system that applies a phase shift that is linear to the frequency. Look at system $y_4[n]$ in the table below:\n",
    "\n",
    "<img src=\"figures/lecture-01/systems-phase-shift.png\" width=\"500\" />\n",
    "\n",
    "\n",
    "\n",
    "\n"
   ]
  },
  {
   "cell_type": "markdown",
   "metadata": {},
   "source": [
    "For example, let us compute the phase delay of three different frequencies $\\omega_0$, $3 \\omega_0$ and $5 \\omega_0$ where $\\omega_0 = 0.004 \\pi$:\n",
    "\n",
    "$$\n",
    "\\tau_{pd}(\\omega_0) = \\frac{-(-\\pi/4)}{0.004 \\pi} = 62.5 \\text{ samples}\n",
    "$$\n",
    "\n",
    "$$\n",
    "\\tau_{pd}(3\\omega_0) = \\frac{-(-3\\pi/4)}{3 \\cdot 0.004 \\pi} = 62.5 \\text{ samples}\n",
    "$$\n",
    "\n",
    "$$\n",
    "\\tau_{pd}(5\\omega_0) = \\frac{-(-5\\pi/4)}{5 \\cdot 0.004 \\pi} = 62.5 \\text{ samples}\n",
    "$$"
   ]
  },
  {
   "cell_type": "markdown",
   "metadata": {},
   "source": [
    "If the system applies a phase shift that is linearly propotional to the frequency of each the input component, the computing the phase delay for each frequency will result in the same value. "
   ]
  },
  {
   "cell_type": "markdown",
   "metadata": {},
   "source": [
    "A system that applies constant or nonlinear phase shift to each frequency component will not yield the same phase delay of each frequency. If the phase delay is different for each frequency, then the output signal will be distorted i.e., the shape of the output will be different than the input signal."
   ]
  },
  {
   "cell_type": "markdown",
   "metadata": {},
   "source": [
    "<img src=\"figures/lecture-01/effects-of-distortions.png\" width=\"600\" />\n",
    "\n"
   ]
  },
  {
   "cell_type": "markdown",
   "metadata": {},
   "source": [
    "## Group Delay"
   ]
  },
  {
   "cell_type": "markdown",
   "metadata": {},
   "source": [
    "A convenient way to check the linearity of phase response is to use the **group\n",
    "delay**:\n",
    "\n",
    "$$\n",
    "\\tau_{gd}(\\omega) \\equiv - \\frac{d \\Psi(\\omega)}{d \\omega}\n",
    "$$\n",
    "\n",
    "where $\\Psi(\\omega)$ is the continuous phase function"
   ]
  },
  {
   "cell_type": "markdown",
   "metadata": {},
   "source": [
    "The group delay is a function of the frequency and is defined as the negative slope of the phase."
   ]
  },
  {
   "cell_type": "markdown",
   "metadata": {},
   "source": [
    "Let us plot the continous phase function:"
   ]
  },
  {
   "cell_type": "markdown",
   "metadata": {},
   "source": [
    "<img src=\"figures/lecture-01/group-delay-plot.png\" width=\"300\" />\n",
    "\n",
    "\n",
    "\n",
    "\n",
    "\n"
   ]
  },
  {
   "cell_type": "markdown",
   "metadata": {},
   "source": [
    "The group delay is the slope of phase function at a specific frequency $\\omega_0$"
   ]
  },
  {
   "cell_type": "markdown",
   "metadata": {},
   "source": [
    "<div class=\"extra\">\n",
    "The phase delay and the group delay can be different. They phase delay and the group delay are the same if the continous phase is just a straight line. This is the case when the system is an <strong>distortionless LTI system</strong>.\n",
    "</div>\n"
   ]
  },
  {
   "cell_type": "markdown",
   "metadata": {},
   "source": [
    "### Example"
   ]
  },
  {
   "cell_type": "markdown",
   "metadata": {},
   "source": [
    "Let us look at bandpass signal:\n",
    "\n",
    "$$\n",
    "x[n] = s[n] \\cos(\\omega_c n)\n",
    "$$\n",
    "\n",
    "where\n",
    "\n",
    "- $\\omega_c$ is the carrier frequency\n",
    "- $s[n]$ is the envelope signal. This signal can consists of multiple frequency components. It can be a lowpass signal where maximum frequency content $\\omega_{max}$ is much smaller than $\\omega_c$.\n",
    "- $\\cos(\\omega_c n)$ is a high frequency signal known as high-frequency carrier. \n",
    "\n",
    "\n",
    "<img src=\"figures/lecture-01/low-high-band-pass.png\" width=\"500\" />\n",
    "\n",
    "\n"
   ]
  },
  {
   "cell_type": "markdown",
   "metadata": {},
   "source": [
    "We have a slowly oscillating signal $s[n]$ multiplied by a fast oscillating signal $\\cos(\\omega_c n)$"
   ]
  },
  {
   "cell_type": "markdown",
   "metadata": {},
   "source": [
    "<img src=\"figures/lecture-01/bandpass-signal-plot.png\" width=\"200\" />\n",
    "\n",
    "\n",
    "\n",
    "\n"
   ]
  },
  {
   "cell_type": "markdown",
   "metadata": {},
   "source": [
    "Let us examine what happens when we pass a bandpass signal $x[n]$ through a system where $\\Psi(\\omega)$ approximately linear at around the carrier frequency $\\omega_c$. We can work out an analytic expression.\n",
    "\n",
    "$$\n",
    "y[n] = |H(e^{j\\omega_c})| \\cdot s[ n - \\tau_{gd}(\\omega_c)] \\cdot \\cos(\\omega_c( n - \\tau_{pd}(\\omega_c) ))\n",
    "$$\n"
   ]
  },
  {
   "cell_type": "markdown",
   "metadata": {},
   "source": [
    "There are three factors in the expression:\n",
    "\n",
    "1. The first factor is the magnitude response or the gain of the system at the carrier frequency. We evaluate the system function at the carrier frequency $\\omega_c$\n",
    "2. The lowpass signal is deplayed by the group delay. This means that the envolope will be delayed some amount of samples given by $\\tau_{gd}(\\omega_c)$\n",
    "3. The carrier signal will be delayed by the phase delay."
   ]
  },
  {
   "cell_type": "markdown",
   "metadata": {},
   "source": [
    "In summary:\n",
    "- whenever we have a signal consisting of multiple frequency components like $s[n]$, an LTI system will introduce a delay in the form of group delay\n",
    "- for a signal of a single frequency component, the LTI system will introduce a delay corresponding to a phase delay."
   ]
  },
  {
   "cell_type": "markdown",
   "metadata": {},
   "source": [
    "---\n",
    "## $z$-Transform of the Power Transfer Function"
   ]
  },
  {
   "cell_type": "markdown",
   "metadata": {},
   "source": [
    "<img src=\"figures/lecture-01/section-5.8-intro-text.png\" width=\"600\" />\n",
    "\n",
    "\n",
    "\n"
   ]
  },
  {
   "cell_type": "markdown",
   "metadata": {},
   "source": [
    "The quantity $|H(e^{j\\omega})|^2$ is called the power transfer function which relates input and output spectrum of a process. In some case, this is the $z$-transform of the auto-correlation."
   ]
  },
  {
   "cell_type": "markdown",
   "metadata": {},
   "source": [
    "So how do we find the $z$-transform of $H(e^{j\\omega}) H^{*}(e^{j\\omega})$"
   ]
  },
  {
   "cell_type": "markdown",
   "metadata": {},
   "source": [
    "First, we know that the $z$-transform of $H(e^{j\\omega})$ is:\n",
    "\n",
    "$$\n",
    "H(z) = \\sum_{k=-\\infty}^{\\infty} h[k] z^{-k}\n",
    "$$"
   ]
  },
  {
   "cell_type": "markdown",
   "metadata": {},
   "source": [
    "However, the $z$-transform of $H^{*}(e^{j\\omega})$ is unknown. Let us focus on this part and phrase the problem in another way:"
   ]
  },
  {
   "cell_type": "markdown",
   "metadata": {},
   "source": [
    "Can we find a $V(z)$ such if we evaluate $z=e^{j\\omega}$ will yield  $H^{*}(e^{j\\omega})$?\n",
    "\n",
    "$$\n",
    "V(z) \\biggr\\rvert_{z=e^{j\\omega}} = H^{*}(e^{j\\omega})\n",
    "$$"
   ]
  },
  {
   "cell_type": "markdown",
   "metadata": {},
   "source": [
    "We know that:\n",
    "\n",
    "$$\n",
    "H^{*}(e^{j\\omega}) =\n",
    "\\left( \\sum_{k=-\\infty}^{\\infty} h[k] e^{-j\\omega k} \\right)^{*}  =\n",
    "\\sum_{k=-\\infty}^{\\infty} h^{*}[k] e^{j\\omega k} \n",
    "$$"
   ]
  },
  {
   "cell_type": "markdown",
   "metadata": {},
   "source": [
    "Notice that:\n",
    "\n",
    "$$\n",
    "\\sum_{k=-\\infty}^{\\infty} h^{*}[k] z^{k} \\biggr \\rvert_{z=e^{j\\omega}} = \n",
    "\\sum_{k=-\\infty}^{\\infty} h^{*}[k] e^{j\\omega k} = H^{*}(e^{j\\omega})\n",
    "$$"
   ]
  },
  {
   "cell_type": "markdown",
   "metadata": {},
   "source": [
    "We are basically just going in circles so let us try something else."
   ]
  },
  {
   "cell_type": "markdown",
   "metadata": {},
   "source": [
    "$$\n",
    "V(z) = \\sum_{k=-\\infty}^{\\infty} h^{*}[k] z^{k}\n",
    "$$"
   ]
  },
  {
   "cell_type": "markdown",
   "metadata": {},
   "source": [
    "We can take the complex conjucate outside the paranthesis:\n",
    "\n",
    "$$\n",
    "V(z) = \\sum_{k=-\\infty}^{\\infty} h^{*}[k] z^{k} =\n",
    "\\left( \\sum_{k=-\\infty}^{\\infty} h[k] (z^{*})^{k}  \\right)^{*}\n",
    "$$"
   ]
  },
  {
   "cell_type": "markdown",
   "metadata": {},
   "source": [
    "In order to have this look like a standard $z$-transform, we need to have $z^{-k}$. We can use the following trick. We can express the complex conjucate of $z$ as:\n",
    "\n",
    "$$\n",
    "z^{*} = \\left( \\frac{1}{z^{*}} \\right)^{-1}\n",
    "$$"
   ]
  },
  {
   "cell_type": "markdown",
   "metadata": {},
   "source": [
    "Putting this expression in the expression for $V(z)$ we get:\n",
    "\n",
    "$$\n",
    "V(z) = \\left( \\sum_{k=-\\infty}^{\\infty} h[k] \\left( \\frac{1}{z^{*}} \\right)^{-k}  \\right)^{*}\n",
    "$$"
   ]
  },
  {
   "cell_type": "markdown",
   "metadata": {},
   "source": [
    "Finally, we get:\n",
    "\n",
    "$$\n",
    "V(z) = H^{*}\\left(\\frac{1}{z^{*}} \\right)\n",
    "$$"
   ]
  },
  {
   "cell_type": "markdown",
   "metadata": {},
   "source": [
    "This means that the $z$-transform of $R(e^{j\\omega}) = H(e^{j\\omega}) H^{*}(e^{j\\omega})$ is:\n",
    "\n",
    "$$\n",
    "R(z) = H(z)H^{*} \\left(\\frac{1}{z^{*}} \\right)\n",
    "$$"
   ]
  },
  {
   "cell_type": "markdown",
   "metadata": {},
   "source": [
    "when $h[n]$ is a complex number."
   ]
  },
  {
   "cell_type": "markdown",
   "metadata": {},
   "source": [
    "If $h[n]$ is real then we have:\n",
    "\n",
    "$$\n",
    "R(z) = H(z)H \\left(\\frac{1}{z} \\right)\n",
    "$$"
   ]
  },
  {
   "cell_type": "markdown",
   "metadata": {},
   "source": [
    "In summary, to compute $H^{*}(1/z^{*})$ is obtained by:\n",
    "- conjugating the coefficients of $H(z)$, and\n",
    "- replacing any $z^{-1}$ by $z$"
   ]
  },
  {
   "cell_type": "markdown",
   "metadata": {},
   "source": [
    "### Example Problem"
   ]
  },
  {
   "cell_type": "markdown",
   "metadata": {},
   "source": [
    "Suppose $H(z) = z+ (1+2 j) z^{-1} + 3 z^{-2}$. What is $H^{*}(1/z^{*})$?"
   ]
  },
  {
   "cell_type": "markdown",
   "metadata": {},
   "source": [
    "Step 1: conjucagete the coefficients of $H$:\n",
    "- The coefficient of the first term is zero.\n",
    "- The coefficient of the second term is $1 + 2j$. The conjugate is $1-2j$.\n",
    "- The coefficient of the third term is $3$. The conjugate is $3$\n",
    "\n",
    "Step 2: Write the terms of $H(z)$ using $z^{-1}$:\n",
    "\n",
    "$$\n",
    "H(z) = (z^{-1})^{-1} + (1+2j)z^{-1} + 3 (z^{-1})^2\n",
    "$$\n",
    "\n",
    "Step 3: Replace any $z^{-1}$ with $z$. First let :\n",
    "\n",
    "$$\n",
    "H^{*}(1/z^{*}) = z^{-1} + (1-2j)z + 3 z^2\n",
    "$$"
   ]
  },
  {
   "cell_type": "markdown",
   "metadata": {},
   "source": [
    "### Frequency Response for Rational System Function"
   ]
  },
  {
   "cell_type": "markdown",
   "metadata": {},
   "source": [
    "All LTI systems of practical interest are described by a difference equation of the form (Eq. 3.76, p. 110):\n",
    "\n",
    "$$\n",
    "y[n] = - \\sum_{k=1}^{N} a_k y[n-k] + \\sum_{k=0}^{M} b_k x[n-k]\n",
    "$$"
   ]
  },
  {
   "cell_type": "markdown",
   "metadata": {},
   "source": [
    "The output of the system is a linear combination of input signal $x[n]$ and old output."
   ]
  },
  {
   "cell_type": "markdown",
   "metadata": {},
   "source": [
    "The system have a **rational system function**:\n",
    "\n",
    "$$\n",
    "H(z) = \\frac{ \\sum_{k=0}^M b_k z^{-k} }{ 1 + \\sum_{k=1}^N a_k z^{-k} } = \\frac{ b_0 + b_1 z^{-1} + b_2 z^{-2} + \\cdots b_M z^{-M} }{1 + a_1 z^{-1} + a_2 z^{-2} + \\cdots a_N z^{-N}} = \\frac{B(z)}{A(z)}\n",
    "$$"
   ]
  },
  {
   "cell_type": "markdown",
   "metadata": {},
   "source": [
    "The rational system function can be factorised in terms of its poles and zeros:\n",
    "\n",
    "$$\n",
    "H(z) = \\frac{ b_0 \\prod_{k=1}^M \\left(1- z_k z^{-1} \\right) }{ \\prod_{k=1}^N \\left (1 - p_k z^{-1} \\right) }\n",
    "$$\n",
    "\n",
    "where $z_k$ are the zeros for $k=1,2,\\cdots,M$ and $p_k$ are the poles for $k=1,2,\\cdots,N$. This allows us to clearly see the zeros and the poles."
   ]
  },
  {
   "cell_type": "markdown",
   "metadata": {},
   "source": [
    "### Conjucate Reciprocal Pairs"
   ]
  },
  {
   "cell_type": "markdown",
   "metadata": {},
   "source": [
    "Since we have $H(z)$ we can compute $R(z) = H(z)H^{*}(1/z^{*})$:\n",
    "\n",
    "$$\n",
    "R(z) = |b_0|^2 \\frac{ \\prod_{k=1}^M \\left(1- z_k z^{-1} \\right)\\left(1- z_k^{*} z \\right) }{ \\prod_{k=1}^N \\left (1 - p_k z^{-1} \\right) \\left(1- p_k^{*} z \\right) }\n",
    "$$"
   ]
  },
  {
   "cell_type": "markdown",
   "metadata": {},
   "source": [
    "For each pole $p_k$ of $H(z)$, there are two poles of $R(z)$ at $p_k$ and $1/p_k^{*}$. \n",
    "\n",
    "Similarly, for each zero $z_k$ of $H(z)$, there are two zeros of $R(z)$ at $z_k$ and $1/z_k^{*}$.\n",
    "\n",
    "Therefore, the poles and zeros of $R(z)$ occur in **conjucate reciprocal pairs**.\n",
    "\n",
    "For example, if $z_0 = r e^{j\\phi}$ is a pole (or zero), then $1/z_0^{*}= \\frac{1}{r} e^{j\\phi}$ is a pole (or zero)."
   ]
  },
  {
   "cell_type": "markdown",
   "metadata": {},
   "source": [
    "$$\n",
    "\\frac{1}{z_0^{*}} = \\frac{1}{ \\left( re^{j\\phi} \\right)^{*}} = \\frac{1}{re^{-j\\phi} } \n",
    "= \\frac{1}{r/e^{j\\phi} }\n",
    "= \\frac{1}{1} \\cdot \\frac{e^{j\\phi}}{r}\n",
    "= \\frac{1}{r} e^{j\\phi}\n",
    "$$"
   ]
  },
  {
   "cell_type": "markdown",
   "metadata": {},
   "source": [
    "If $z_0$ is inside the unit circle then it conjugate reciprocal $1/z_0^{*}$ is outside the unit circle."
   ]
  },
  {
   "cell_type": "markdown",
   "metadata": {},
   "source": [
    "\n",
    "\n",
    "\n",
    "<img src=\"figures/lecture-01/conjucate-reciprocal-pairs-unit-circle.png\" width=\"300\" />\n",
    "\n",
    "\n",
    "\n",
    "\n",
    "\n",
    "\n",
    "\n",
    "\n",
    "\n"
   ]
  },
  {
   "cell_type": "markdown",
   "metadata": {},
   "source": [
    "If $z_0$ on the unit circle then it conjugate reciprocal $1/z_0^{*}$ must be in the same location on the unit circle."
   ]
  },
  {
   "cell_type": "markdown",
   "metadata": {},
   "source": [
    "### Modelling Random Signals (example 5.8)"
   ]
  },
  {
   "cell_type": "markdown",
   "metadata": {},
   "source": [
    "A standard problem in signal processing is given $R(z)$, what was the $H(z)$? We have measured the autocorrelation function for a given signal and we want to find the corresponding system in terms of the system function $H(z)$. This is an attempt to model what is going on in the system. signal model. It is a fancy way of modelling random signals. Once we have modelled the random signals, we can find the model parameters and describe the system in a more advanced framework than saying that the random signal is just noise. We will come back to this later in the course."
   ]
  },
  {
   "cell_type": "markdown",
   "metadata": {},
   "source": [
    "Suppose we have a second-order FIR filter with the system function:\n",
    "\n",
    "$$\n",
    "H(z) = \\left(1-az^{-1} \\right)\\left(1-bz^{-1} \\right)\n",
    "$$\n",
    "where $a$ and $b$ are real numbers between -1 and 1."
   ]
  },
  {
   "cell_type": "markdown",
   "metadata": {},
   "source": [
    "We can compute $R(z)$:\n",
    "\n",
    "$$\n",
    "R(z) = H(z)H(1/z) = \\left(1-az^{-1} \\right)\\left(1-bz^{-1} \\right) \\left(1-az \\right)\\left(1-bz \\right)\n",
    "$$"
   ]
  },
  {
   "cell_type": "markdown",
   "metadata": {},
   "source": [
    "Now, suppose we only know $R(z)$ and we want to find $H(z)$. We can come up with four equally valid choices for $H(z)$:"
   ]
  },
  {
   "cell_type": "markdown",
   "metadata": {},
   "source": [
    "<img src=\"figures/lecture-01/modelling-random-signals.png\" width=\"700\" />\n",
    "\n",
    "\n",
    "\n",
    "\n",
    "\n",
    "\n",
    "\n",
    "\n",
    "\n",
    "\n"
   ]
  },
  {
   "cell_type": "markdown",
   "metadata": {},
   "source": [
    "We need figure out which of these system function that we like the best and why."
   ]
  },
  {
   "cell_type": "markdown",
   "metadata": {},
   "source": [
    "We will come back to this later in the course."
   ]
  },
  {
   "cell_type": "markdown",
   "metadata": {},
   "source": [
    "---\n",
    "## 5.9 Allpass systems"
   ]
  },
  {
   "cell_type": "markdown",
   "metadata": {},
   "source": [
    "Systems without magnitude distortion are known as **allpass systems**:\n",
    " - Allpass systems have a constant magnitude response.\n",
    " - Allpass systems can be completely described by their phase response."
   ]
  },
  {
   "cell_type": "markdown",
   "metadata": {},
   "source": [
    "Formally, we say that the frequency response of an allpass filter has a constant ($G > 0$) at all frequencies:\n",
    "\n",
    "$$\n",
    "|H(e^{j\\omega})| = G\n",
    "$$"
   ]
  },
  {
   "cell_type": "markdown",
   "metadata": {},
   "source": [
    "But there are no constraint on the phase responses."
   ]
  },
  {
   "cell_type": "markdown",
   "metadata": {},
   "source": [
    "The simplest allpass filter is system that delays the signal by $k$ samples:\n",
    "\n",
    "$$\n",
    "H_{AP}(z) = z^{-k}\n",
    "$$"
   ]
  },
  {
   "cell_type": "markdown",
   "metadata": {},
   "source": [
    "A more interesting, non-trivial family of allpass systems (known as **dispersive allpass systems**) is:\n",
    "\n",
    "$$\n",
    "H_k(z) = \\frac{z^{-1} - p_k^{*}}{1-p_k z^{-1}}\n",
    "$$\n",
    "\n",
    "We have have a zero at $p_k^{*}$ and a pole at $p_k$. \n",
    "\n",
    "Notice that there is no gain in the system but only phase delay."
   ]
  },
  {
   "cell_type": "markdown",
   "metadata": {},
   "source": [
    "In the textbook, the system is analysed and we the following results if we put our pole $p_k$ at $r_k e^{j\\phi_k}$:"
   ]
  },
  {
   "cell_type": "markdown",
   "metadata": {},
   "source": [
    "<img src=\"figures/lecture-01/first-order-allpass-system.png\" width=\"500\" />\n",
    "\n",
    "\n",
    "\n",
    "\n",
    "\n",
    "\n",
    "\n",
    "\n",
    "\n",
    "\n",
    "\n",
    "\n",
    "\n"
   ]
  },
  {
   "cell_type": "markdown",
   "metadata": {},
   "source": [
    "1. The magnitude response is 1\n",
    "2. The phase response\n",
    "3. The group delay"
   ]
  },
  {
   "cell_type": "markdown",
   "metadata": {},
   "source": [
    "Looking at these equations, we see they are complex non-linear functions. "
   ]
  },
  {
   "cell_type": "markdown",
   "metadata": {},
   "source": [
    "If we let $p_k = 0.8 e^{j \\pi/4}$ then the pole is located inside the unit circle in order for the system to be stable. Also notice that the zero is outside the unit circle, because it is set as $1/p_k^{*}$. The magnitude response is $1$ or $\\log(1) = 0$ dB."
   ]
  },
  {
   "cell_type": "markdown",
   "metadata": {},
   "source": [
    "<img src=\"figures/lecture-01/figure-2.9-a-pole-zero-plot-log-gain.png\" width=\"800\" />\n",
    "\n",
    "\n",
    "\n",
    "\n",
    "\n",
    "\n",
    "\n",
    "\n"
   ]
  },
  {
   "cell_type": "markdown",
   "metadata": {},
   "source": [
    "We can compute the two phase functions; the unwrapped/continous phase function $\\Psi_k(\\omega)$ and the phase function. We have a jump at $\\pi/4$. This is shown on the left figure. If we take the derivative of $\\Psi_k(\\omega)$, when we get the plot on the right (the group delay). Notice that we get a peak at $\\pi/4$. "
   ]
  },
  {
   "cell_type": "markdown",
   "metadata": {},
   "source": [
    "<img src=\"figures/lecture-01/figure-2.9-b.png\" width=\"800\" />\n",
    "\n",
    "\n",
    "\n",
    "\n",
    "\n",
    "\n",
    "\n",
    "\n"
   ]
  },
  {
   "cell_type": "code",
   "execution_count": 6,
   "metadata": {},
   "outputs": [
    {
     "data": {
      "text/plain": [
       "0.7853981633974483"
      ]
     },
     "execution_count": 6,
     "metadata": {},
     "output_type": "execute_result"
    }
   ],
   "source": [
    "np.pi/4"
   ]
  },
  {
   "cell_type": "code",
   "execution_count": 7,
   "metadata": {},
   "outputs": [
    {
     "data": {
      "text/plain": [
       "2.356194490192345"
      ]
     },
     "execution_count": 7,
     "metadata": {},
     "output_type": "execute_result"
    }
   ],
   "source": [
    "(3*np.pi)/4"
   ]
  },
  {
   "cell_type": "markdown",
   "metadata": {},
   "source": []
  },
  {
   "cell_type": "markdown",
   "metadata": {},
   "source": [
    "In summary: If we send a signal through this allpass filter, then frequencies located at $\\pi/4$ will be delayed by some number of samples compared to any other frequencies. Notice there is no change in gain in this system."
   ]
  },
  {
   "cell_type": "markdown",
   "metadata": {},
   "source": [
    "### Cascading Multiple First-Order Allpass Sections"
   ]
  },
  {
   "cell_type": "markdown",
   "metadata": {},
   "source": [
    "Higher order allpass systems can be obtained by cascading multiple first-order sections:\n",
    "\n",
    "$$\n",
    "H_{ap}(z) = e^{j\\beta} \\prod_{k=1}^{N}  \\frac{z^{-1} - p_k^{*}}{ 1 - p_k z^{-1}}\n",
    "$$\n",
    "\n",
    "where $\\beta$ is a constant (usually $\\beta = 0$ so $e^{j\\beta} = 1$)"
   ]
  },
  {
   "cell_type": "markdown",
   "metadata": {},
   "source": [
    "If we take this cascade of $N$ first-order allpass filters and multiply it out, then we get a rational system function:\n",
    "\n",
    "$$\n",
    "H_{AP}(z) = z^{-N} \\frac{ 1+ a_1^{*} z + a_2^{*}z^{2} + \\cdots + a_N^{*} z^{N} }{ 1 + a_1 z^{-1} + a_2 z^{-2} + \\cdots + a_N z^{-N} } \n",
    "= z^{-N} \\frac{A^{*}(1/z^{*})}{ A(z)}\n",
    "$$\n",
    "\n",
    "where $A(z)$ are polynomials. We say that $A(z)$ and $z^{-N} A^{*}(1/z^{*})$ for a **conjugate reverse pair**."
   ]
  },
  {
   "cell_type": "markdown",
   "metadata": {},
   "source": [
    "Multiplying $z^{-N}$ we get:\n",
    "\n",
    "$$\n",
    "H_{AP}(z) =\\frac{ a_N^{*} + a_{N-1}^{*}z^{-1} + \\cdots + z^{-N} }{ 1 + a_1 z^{-1} + a_2 z^{-2} + \\cdots + a_N z^{-N} }\n",
    "$$"
   ]
  },
  {
   "cell_type": "markdown",
   "metadata": {},
   "source": [
    "---\n",
    "## Invertibility and Minimum phase system"
   ]
  },
  {
   "cell_type": "markdown",
   "metadata": {},
   "source": [
    "**Definition:** An LTI system $H(z)$ with input $x[n]$ and output $y[n]$ is said to be invertible if we can uniquely determine $x[n]$ from $y[n]$. In other words, there has to be a one-to-one mapping between input and output for each sample."
   ]
  },
  {
   "cell_type": "markdown",
   "metadata": {},
   "source": []
  },
  {
   "cell_type": "markdown",
   "metadata": {},
   "source": [
    "**Definition:** A stable-causal system has a stable-causal inverse if and only if all poles and zeros are inside the unit circle $|z| = 1$."
   ]
  },
  {
   "cell_type": "markdown",
   "metadata": {},
   "source": [
    "**Definition:** A causal and stable LTI system with a causal and stable inverse is known as a **minimum-phase system**."
   ]
  },
  {
   "cell_type": "markdown",
   "metadata": {},
   "source": [
    "We can write any rational system function that does not have zeros on the unit circle as:\n",
    "\n",
    "$$\n",
    "H(z) = H_{min}(z) H_{AP}(z)\n",
    "$$\n",
    "where $H_{min}(z)$ is the mini"
   ]
  },
  {
   "cell_type": "markdown",
   "metadata": {},
   "source": [
    "To factor"
   ]
  }
 ],
 "metadata": {
  "kernelspec": {
   "display_name": "Python 3",
   "language": "python",
   "name": "python3"
  },
  "language_info": {
   "codemirror_mode": {
    "name": "ipython",
    "version": 3
   },
   "file_extension": ".py",
   "mimetype": "text/x-python",
   "name": "python",
   "nbconvert_exporter": "python",
   "pygments_lexer": "ipython3",
   "version": "3.7.1"
  },
  "toc-autonumbering": false,
  "toc-showcode": false,
  "toc-showmarkdowntxt": false,
  "toc-showtags": false
 },
 "nbformat": 4,
 "nbformat_minor": 2
}
