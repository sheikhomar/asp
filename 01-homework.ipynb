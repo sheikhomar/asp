{
 "cells": [
  {
   "cell_type": "markdown",
   "metadata": {},
   "source": [
    "# Homework 1"
   ]
  },
  {
   "cell_type": "code",
   "execution_count": 6,
   "metadata": {},
   "outputs": [
    {
     "data": {
      "text/html": [
       "<style type=\"text/css\">.summary {\n",
       "  border: solid 1px green !important;\n",
       "  background: #cdffd8 !important;\n",
       "  padding: 10px !important;\n",
       "  border-radius: 2px !important;\n",
       "}\n",
       "\n",
       ".insight {\n",
       "  border: solid 1px green !important;\n",
       "  background: #cdffd8 !important;\n",
       "  padding: 10px !important;\n",
       "  border-radius: 2px !important;\n",
       "}\n",
       "\n",
       ".extra {\n",
       "  border: solid 1px green !important;\n",
       "  --background: #cdffd8 !important;\n",
       "  padding: 10px !important;\n",
       "  border-radius: 2px !important;\n",
       "  padding-left: 80px !important;\n",
       "  background: #cdffd8 url(/files/figures/extra-info.png) no-repeat !important;\n",
       "  background-image: url(/files/figures/extra-info.png) !important;\n",
       "  min-height: 60px !important;\n",
       "  background-position: 5px 5px !important; \n",
       "}\n",
       "\n",
       ".warning {\n",
       "  border: solid 1px #8a6d3b !important;\n",
       "  background: #fcf8e3 !important;\n",
       "  padding: 10px !important;\n",
       "  border-radius: 2px !important;\n",
       "}\n",
       "\n",
       ".green {\n",
       "  color: #006600 !important;\n",
       "}\n",
       "\n",
       ".red {\n",
       "  color: #cc0000 !important;\n",
       "}\n",
       "\n",
       ".simplex-tableaux {\n",
       "    font-size: 13pt !important;\n",
       "}\n",
       "\n",
       ".last-row td {\n",
       "    border-top: solid 1px Black !important;\n",
       "}\n",
       "\n",
       ".smallest-value {\n",
       "    background-color: Green !important;\n",
       "    color: White !important;\n",
       "    font-weight: bold !important;\n",
       "}</style>Stylesheet \"styles.css\" loaded."
      ],
      "text/plain": [
       "<IPython.core.display.HTML object>"
      ]
     },
     "metadata": {},
     "output_type": "display_data"
    }
   ],
   "source": [
    "import numpy as np\n",
    "import sympy as sy\n",
    "import scipy.signal as sig\n",
    "import matplotlib.pyplot as plt\n",
    "from IPython.display import HTML, display\n",
    "from fractions import Fraction\n",
    "\n",
    "import utils as utils\n",
    "\n",
    "import importlib\n",
    "importlib.reload(utils)\n",
    "\n",
    "%matplotlib inline\n",
    "\n",
    "sy.init_printing()\n",
    "utils.load_custom_styles()"
   ]
  },
  {
   "cell_type": "markdown",
   "metadata": {},
   "source": [
    "---\n",
    "## Review 3.6\n",
    "\n",
    "<img src=\"figures/homework-01/ex1.png\" width=\"800\" />\n",
    "\n"
   ]
  },
  {
   "cell_type": "markdown",
   "metadata": {},
   "source": [
    "The $z$-transform can be computed as follows:\n",
    "$$\n",
    "X[z] = \\sum_{n=-\\infty}^{\\infty} x[n] z^{-n}\n",
    "$$"
   ]
  },
  {
   "cell_type": "markdown",
   "metadata": {},
   "source": [
    "Since $x[n] = u[n]$ then we have:\n",
    "$$\n",
    "X[z] = \\sum_{n=0}^{\\infty} u[n] z^{-n}\n",
    "$$"
   ]
  },
  {
   "cell_type": "markdown",
   "metadata": {},
   "source": [
    "At $z = 0$ then we have:\n",
    "$$\n",
    "X[z] \\bigg\\rvert_{z=0} = \\sum_{n=0}^{\\infty} u[n] 0^{-n} = 0\n",
    "$$"
   ]
  },
  {
   "cell_type": "markdown",
   "metadata": {},
   "source": [
    "---\n",
    "## Problem 3.6\n",
    "\n",
    "<img src=\"figures/homework-01/problem-3.6.png\" width=\"700\" />\n"
   ]
  },
  {
   "cell_type": "markdown",
   "metadata": {},
   "source": [
    "To solve these problem, we need to use the properties of the $z$-transform:\n",
    "\n",
    "<img src=\"figures/lecture-01/z-transform-property-table.png\" width=\"600\" />\n",
    "\n",
    "\n",
    "\n",
    "\n",
    "\n",
    "\n",
    "\n",
    "\n",
    "\n",
    "\n",
    "\n",
    "\n",
    "\n",
    "\n",
    "\n"
   ]
  },
  {
   "cell_type": "markdown",
   "metadata": {},
   "source": [
    "### Exercise 3.6 a)"
   ]
  },
  {
   "cell_type": "markdown",
   "metadata": {},
   "source": [
    "We need to determine the $z$-transform and the corresponding ROC for:\n",
    "\n",
    "$$\n",
    "y[n] = x[n-3]\n",
    "$$"
   ]
  },
  {
   "cell_type": "markdown",
   "metadata": {},
   "source": [
    "Since the output $y[n]$ is shifted by $3$, we can make use of the time shifting property:"
   ]
  },
  {
   "cell_type": "markdown",
   "metadata": {},
   "source": [
    "<img src=\"figures/lecture-01/z-transform-property-time-shifting.png\" width=\"600\" />\n",
    "\n",
    "\n",
    "\n",
    "\n"
   ]
  },
  {
   "cell_type": "markdown",
   "metadata": {},
   "source": [
    "The $z$-transform of $y[n]$, denoted $Y(z)$, can be computed by using the given $z$-transform of the input sequence $x[n]$:\n",
    "\n",
    "$$\n",
    "Y(z) = z^{-3} X(z) = z^{-3} \\frac{1}{1-2z^{-1}} = \\frac{z^{-3}}{1-2z^{-1}}\n",
    "$$"
   ]
  },
  {
   "cell_type": "markdown",
   "metadata": {},
   "source": [
    "The ROC for $Y(z)$ is $|z| < 2$ --- the same as the ROC for $X(z)$"
   ]
  },
  {
   "cell_type": "markdown",
   "metadata": {},
   "source": [
    "----\n",
    "### Exercise 3.6 b)"
   ]
  },
  {
   "cell_type": "markdown",
   "metadata": {},
   "source": [
    "We need to determine the $z$-transform and the corresponding ROC for:\n",
    "\n",
    "$$\n",
    "y[n] = \\left(\\frac{1}{3} \\right)^n x[n]\n",
    "$$"
   ]
  },
  {
   "cell_type": "markdown",
   "metadata": {},
   "source": [
    "By pattern matching, we observe that we can use the **scaling property**:"
   ]
  },
  {
   "cell_type": "markdown",
   "metadata": {},
   "source": [
    "<img src=\"figures/lecture-01/z-transform-property-scaling.png\" width=\"600\" />\n",
    "\n",
    "\n",
    "\n",
    "\n"
   ]
  },
  {
   "cell_type": "markdown",
   "metadata": {},
   "source": [
    "Given \n",
    "$$\n",
    "X(z) = \\frac{1}{1-2z^{-1}}\n",
    "$$\n",
    "and ROC $|z| < 2$\n",
    "\n",
    "The $z$-transform of $y[n]$ can be computed:\n",
    "$$\n",
    "Y(z) = X \\left(  \\frac{z}{1/3} \\right) = X(3z)\n",
    "=  \\frac{1}{1-2(3z)^{-1}}\n",
    "=  \\frac{1}{1- \\frac{2}{3z}}\n",
    "=  \\frac{1}{1- \\frac{2}{3}z^{-1}}\n",
    "$$"
   ]
  },
  {
   "cell_type": "markdown",
   "metadata": {},
   "source": [
    "<div class=\"warning\">\n",
    "<ul>\n",
    "<li>How do we compute ROC for $Y(z)$?</li>\n",
    "</ul>\n",
    "\n",
    "</div>"
   ]
  },
  {
   "cell_type": "markdown",
   "metadata": {},
   "source": [
    "----\n",
    "### Exercise 3.6 c)"
   ]
  },
  {
   "cell_type": "markdown",
   "metadata": {},
   "source": [
    "We need to determine the $z$-transform and the corresponding ROC for:\n",
    "\n",
    "$$\n",
    "y[n] = x[n] * x[-n]\n",
    "$$"
   ]
  },
  {
   "cell_type": "markdown",
   "metadata": {},
   "source": [
    "By table lookup, we use two $z$-transform properties; **convolution and folding**:"
   ]
  },
  {
   "cell_type": "markdown",
   "metadata": {},
   "source": [
    "\n",
    "\n",
    "<img src=\"figures/lecture-01/z-transform-property-convolution.png\" width=\"600\" />\n",
    "\n",
    "\n",
    "\n",
    "\n"
   ]
  },
  {
   "cell_type": "markdown",
   "metadata": {},
   "source": [
    "\n",
    "<img src=\"figures/lecture-01/z-transform-property-folding.png\" width=\"600\" />\n",
    "\n",
    "\n",
    "\n",
    "\n",
    "\n"
   ]
  },
  {
   "cell_type": "markdown",
   "metadata": {},
   "source": [
    "Given \n",
    "$$\n",
    "X(z) = \\frac{1}{1-2z^{-1}}\n",
    "$$\n",
    "and ROC $|z| < 2$\n",
    "\n",
    "The $z$-transform of $y[n]$ can be computed:\n",
    "\n",
    "$$\n",
    "Y(z) = X(z) X(1/z)\n",
    "$$"
   ]
  },
  {
   "cell_type": "markdown",
   "metadata": {},
   "source": [
    "We can compute the second product $Y(1/z)$ first:\n",
    "\n",
    "$$\n",
    "X(1/z) = \\frac{1}{1-2(z^{-1})^{-1}} = \\frac{1}{1-2z}\n",
    "$$"
   ]
  },
  {
   "cell_type": "markdown",
   "metadata": {},
   "source": [
    "Now, we have:\n",
    "\n",
    "$$\n",
    "Y(z) = X(z) X(1/z) = \\frac{1}{1-2z^{-1}} \\cdot \\frac{1}{1-2z}\n",
    "$$"
   ]
  },
  {
   "cell_type": "markdown",
   "metadata": {},
   "source": [
    "Let us compute this using sympy:"
   ]
  },
  {
   "cell_type": "code",
   "execution_count": 2,
   "metadata": {},
   "outputs": [
    {
     "data": {
      "image/png": "[encoded data removed]",
      "text/latex": [
       "$$\\frac{1}{\\left(1 - \\frac{2}{z}\\right) \\left(- 2 z + 1\\right)}$$"
      ],
      "text/plain": [
       "        1         \n",
       "──────────────────\n",
       "⎛    2⎞           \n",
       "⎜1 - ─⎟⋅(-2⋅z + 1)\n",
       "⎝    z⎠           "
      ]
     },
     "execution_count": 2,
     "metadata": {},
     "output_type": "execute_result"
    }
   ],
   "source": [
    "z = sy.symbols('z', complex=True)\n",
    "f = (1/(1-2*z**(-1) )) * ( 1  / (1-2*z) )\n",
    "f"
   ]
  },
  {
   "cell_type": "code",
   "execution_count": 3,
   "metadata": {},
   "outputs": [
    {
     "data": {
      "image/png": "[encoded data removed]",
      "text/latex": [
       "$$\\frac{1}{- 2 z + 5 - \\frac{2}{z}}$$"
      ],
      "text/plain": [
       "     1      \n",
       "────────────\n",
       "           2\n",
       "-2⋅z + 5 - ─\n",
       "           z"
      ]
     },
     "execution_count": 3,
     "metadata": {},
     "output_type": "execute_result"
    }
   ],
   "source": [
    "sy.expand(f)"
   ]
  },
  {
   "cell_type": "markdown",
   "metadata": {},
   "source": [
    "$$\n",
    "Y(z) = X(z) X(1/z) = \\frac{1}{-2z + 5 - 2z^{-1}}\n",
    "$$"
   ]
  },
  {
   "cell_type": "markdown",
   "metadata": {},
   "source": [
    "Since we want to work with polynomials in the variable $z^{-1}$ so we want to get rid of $z$:\n",
    "\n",
    "\\begin{align}\n",
    "Y(z) &= \\frac{z^{-1}(1)}{z^{-1}  \\left( -2z + 5 - 2z^{-1} \\right) }\n",
    "     &= \\frac{z^{-1}}{  -2 + 5z^{-1} - 2z^{-2} }\n",
    "\\end{align}"
   ]
  },
  {
   "cell_type": "markdown",
   "metadata": {},
   "source": [
    "ROC of the first product $|z|<2$ and ROC of the second product is $1/(|z|<2)$"
   ]
  },
  {
   "cell_type": "markdown",
   "metadata": {},
   "source": [
    "<div class=\"warning\">\n",
    "<ul>\n",
    "<li>Solution set has a different result. Why?</li>\n",
    "<li>How do we compute ROC for $Y(z)$?</li>\n",
    "</ul>\n",
    "</div>"
   ]
  },
  {
   "cell_type": "markdown",
   "metadata": {},
   "source": [
    "----\n",
    "### Exercise 3.6 d)"
   ]
  },
  {
   "cell_type": "markdown",
   "metadata": {},
   "source": [
    "We need to determine the $z$-transform and the corresponding ROC for:\n",
    "\n",
    "$$\n",
    "y[n] = nx[n]\n",
    "$$"
   ]
  },
  {
   "cell_type": "markdown",
   "metadata": {},
   "source": [
    "By table lookup, we can use the **differentiation** property"
   ]
  },
  {
   "cell_type": "markdown",
   "metadata": {},
   "source": [
    "\n",
    "<img src=\"figures/lecture-01/z-transform-property-differentiation.png\" width=\"600\" />\n",
    "\n",
    "\n",
    "\n",
    "\n",
    "\n"
   ]
  },
  {
   "cell_type": "markdown",
   "metadata": {},
   "source": [
    "The $z$-transform of $y[n]$ can be computed:\n",
    "\n",
    "$$\n",
    "Y(z) = -z \\frac{d X(z)}{dz} = -z \\frac{d }{dz} \\left [ \\frac{1}{1-2z^{-1}} \\right ]\n",
    "$$"
   ]
  },
  {
   "cell_type": "markdown",
   "metadata": {},
   "source": [
    "The derivative can be computed in sympy:"
   ]
  },
  {
   "cell_type": "code",
   "execution_count": 4,
   "metadata": {},
   "outputs": [
    {
     "data": {
      "text/latex": [
       "$$\\left[\\begin{matrix}\\frac{2}{z \\left(1 - \\frac{2}{z}\\right)^{2}}\\end{matrix}\\right]$$"
      ],
      "text/plain": [
       "⎡    2     ⎤\n",
       "⎢──────────⎥\n",
       "⎢         2⎥\n",
       "⎢  ⎛    2⎞ ⎥\n",
       "⎢z⋅⎜1 - ─⎟ ⎥\n",
       "⎣  ⎝    z⎠ ⎦"
      ]
     },
     "execution_count": 4,
     "metadata": {},
     "output_type": "execute_result"
    }
   ],
   "source": [
    "z = sy.symbols('z', complex=True)\n",
    "f = 1/(1-2* z**(-1))\n",
    "-z * sy.Matrix([f]).jacobian((z,))"
   ]
  },
  {
   "cell_type": "markdown",
   "metadata": {},
   "source": [
    "$$\n",
    "Y(z) = -z \\frac{d X(z)}{dz} = -z \\frac{d }{dz} \\left [ \\frac{1}{1-2z^{-1}} \\right ]\n",
    "= \\frac{2}{z(1-2/z)^2}\n",
    "$$"
   ]
  },
  {
   "cell_type": "code",
   "execution_count": 5,
   "metadata": {},
   "outputs": [
    {
     "data": {
      "image/png": "[encoded data removed]",
      "text/latex": [
       "$$1 - \\frac{4}{z} + \\frac{4}{z^{2}}$$"
      ],
      "text/plain": [
       "    4   4 \n",
       "1 - ─ + ──\n",
       "    z    2\n",
       "        z "
      ]
     },
     "execution_count": 5,
     "metadata": {},
     "output_type": "execute_result"
    }
   ],
   "source": [
    "sy.expand((1-2/z)**2)"
   ]
  },
  {
   "cell_type": "markdown",
   "metadata": {},
   "source": [
    "Since we want to work with polynomials in the variable $z^{-1}$ so we want to get rid of $z$s:\n",
    "\n",
    "\\begin{align}\n",
    "Y(z) &= \\frac{2}{z(1-2/z)^2}\\\\\n",
    "     &= \\frac{2}{z( 1 - 4z^{-1} + 4z^{-2} )} \\\\\n",
    "     &= \\frac{z^{-1}(2)}{z^{-1}z( 1 - 4z^{-1} + 4z^{-2} )} \\\\\n",
    "     &= \\frac{2z^{-1}}{1 - 4z^{-1} + 4z^{-2}} \\\\\n",
    "\\end{align}"
   ]
  },
  {
   "cell_type": "markdown",
   "metadata": {},
   "source": [
    "The ROC for $Y(z)$ is $|z| < 2$ (the same as for $X(z)$)"
   ]
  },
  {
   "cell_type": "markdown",
   "metadata": {},
   "source": [
    "----\n",
    "### Exercise 3.6 e)"
   ]
  },
  {
   "cell_type": "markdown",
   "metadata": {},
   "source": [
    "We need to determine the $z$-transform and the corresponding ROC for:\n",
    "\n",
    "$$\n",
    "y[n] = x[n-1] + x[n+2]\n",
    "$$"
   ]
  },
  {
   "cell_type": "markdown",
   "metadata": {},
   "source": [
    "By table lookup, we use two $z$-transform properties; **linearity and time shifting**:"
   ]
  },
  {
   "cell_type": "markdown",
   "metadata": {},
   "source": [
    "\n",
    "\n",
    "<img src=\"figures/lecture-01/z-transform-property-linearity.png\" width=\"600\" />\n",
    "\n",
    "<img src=\"figures/lecture-01/z-transform-property-time-shifting.png\" width=\"600\" />\n",
    "\n",
    "\n",
    "\n",
    "\n"
   ]
  },
  {
   "cell_type": "markdown",
   "metadata": {},
   "source": [
    "Given \n",
    "$$\n",
    "X(z) = \\frac{1}{1-2z^{-1}}\n",
    "$$\n",
    "\n",
    "The $z$-transform of $y[n]$ can be computed:\n",
    "\n",
    "\\begin{align}\n",
    "Y(z) &= z^{-1} X(z)  + z^{2} X(z) \\\\\n",
    "     &= \\frac{z^{-1}}{1-2z^{-1}} + \\frac{z^{2}}{1-2z^{-1}} \\\\\n",
    "     &= \\frac{z^{-1} + z^{2}}{1-2z^{-1}} \\\\\n",
    "\\end{align}"
   ]
  },
  {
   "cell_type": "markdown",
   "metadata": {},
   "source": [
    "We want to work with polynomials in the variable $z^{-1}$ so we want to get rid of $z^{2}$:"
   ]
  },
  {
   "cell_type": "markdown",
   "metadata": {},
   "source": [
    "\\begin{align}\n",
    "Y(z) &= \\frac{z^{-2} (z^{-1} + z^{2}) }{z^{-2}  (1-2z^{-1}) } \\\\\n",
    "     &= \\frac{1 + z^{-3} }{z^{-2} - 2 z^{-3} } \\\\\n",
    "\\end{align}"
   ]
  },
  {
   "cell_type": "markdown",
   "metadata": {},
   "source": [
    "<div class=\"warning\">\n",
    "<ul>\n",
    "<li>How do we compute ROC for $Y(z)$?</li>\n",
    "</ul>\n",
    "</div>"
   ]
  },
  {
   "cell_type": "markdown",
   "metadata": {},
   "source": [
    "----\n",
    "### Exercise 3.6 f)"
   ]
  },
  {
   "cell_type": "markdown",
   "metadata": {},
   "source": [
    "We need to determine the $z$-transform and the corresponding ROC for:\n",
    "\n",
    "$$\n",
    "y[n] = x[n] * x[n-2]\n",
    "$$"
   ]
  },
  {
   "cell_type": "markdown",
   "metadata": {},
   "source": [
    "We can utilise two $z$-transform properties; **convolution and time shifting**."
   ]
  },
  {
   "cell_type": "markdown",
   "metadata": {},
   "source": [
    "\n",
    "\n",
    "<img src=\"figures/lecture-01/z-transform-property-convolution.png\" width=\"600\" />\n",
    "\n",
    "<img src=\"figures/lecture-01/z-transform-property-time-shifting.png\" width=\"600\" />\n",
    "\n"
   ]
  },
  {
   "cell_type": "markdown",
   "metadata": {},
   "source": [
    "Given \n",
    "$$\n",
    "X(z) = \\frac{1}{1-2z^{-1}}\n",
    "$$\n",
    "\n",
    "The $z$-transform of $y[n] = x[n] * x[n-2]$ can be computed:\n",
    "\n",
    "\\begin{align}\n",
    "Y(z) &= X(z) \\cdot  z^{-2} X(z) \\\\\n",
    "     &= \\frac{1}{1-2z^{-1}}  \\cdot  z^{-2}\\cdot \\frac{1}{1-2z^{-1}} \\\\\n",
    "     &= \\frac{1}{1-2z^{-1}}  \\cdot  \\frac{1}{z^2}\\cdot \\frac{1}{1-2z^{-1}} \\\\\n",
    "     &= \\frac{1}{z^2 \\left( 1-2z^{-1} \\right )^2}  \\\\\n",
    "     &= \\frac{1}{z^2 \\left( 1 - 4z^{-1}+ 4z^{-2} \\right )}  \\\\\n",
    "     &= \\frac{z^{-2}(1)}{z^{-2} z^2 \\left( 1 - 4z^{-1}+ 4z^{-2} \\right )}  \\\\\n",
    "     &= \\frac{z^{-2}}{1 - 4z^{-1}+ 4z^{-2}}  \\\\\n",
    "\\end{align}"
   ]
  },
  {
   "cell_type": "markdown",
   "metadata": {},
   "source": [
    "<div class=\"warning\">\n",
    "<ul>\n",
    "<li>How do we compute ROC for $Y(z)$?</li>\n",
    "</ul>\n",
    "</div>"
   ]
  },
  {
   "cell_type": "markdown",
   "metadata": {},
   "source": [
    "---\n",
    "## Problem 3.16\n",
    "\n",
    "<img src=\"figures/homework-01/problem-3.16.png\" width=\"800\" />\n"
   ]
  },
  {
   "cell_type": "markdown",
   "metadata": {},
   "source": [
    "### Exercise 3.16 a)\n",
    "\n"
   ]
  },
  {
   "cell_type": "markdown",
   "metadata": {},
   "source": [
    "First, we compute the $z$-transform $x[n] = u[n]$ (unit step sequence):\n",
    "\n",
    "$$\n",
    "X(z) = \\frac{1}{1-z^{-1}}\n",
    "$$"
   ]
  },
  {
   "cell_type": "markdown",
   "metadata": {},
   "source": [
    "ROC is $|z| > 1$"
   ]
  },
  {
   "cell_type": "markdown",
   "metadata": {},
   "source": [
    "Next, we compute the $z$-transform $y[n] = 2(1/3)^n u[n]$. We use the following formula:\n",
    "\n",
    "\\begin{align}\n",
    "c a^n u[n] \\longleftrightarrow \\frac{c}{1-az^{-1}}\n",
    "\\end{align}\n",
    "\n",
    "So we get\n",
    "\n",
    "$$\n",
    "Y(z) = \\frac{2}{1- \\frac{1}{3}z^{-1}}\n",
    "$$"
   ]
  },
  {
   "cell_type": "markdown",
   "metadata": {},
   "source": [
    "ROC is $|z| > 1/3$"
   ]
  },
  {
   "cell_type": "markdown",
   "metadata": {},
   "source": [
    "Since $Y(z) = H(z)X(z)$, the transfer function $H(z)$ can be computed as follows:\n",
    "\n",
    "$$\n",
    "H(z) = \\frac{Y(z)}{X(z)} = \\frac{2}{1-\\frac{1}{3} z^{-1}} \\cdot \\frac{1-z^{-1}}{1}\n",
    "= \\frac{2(1-z^{-1})}{1-\\frac{1}{3} z^{-1}}\n",
    "= \\frac{2-2z^{-1}}{1-\\frac{1}{3} z^{-1}}\n",
    "$$"
   ]
  },
  {
   "cell_type": "markdown",
   "metadata": {},
   "source": [
    "<div class=\"warning\">\n",
    "The ROC for $H(z)$ is $|z| > 1/3$. But why?\n",
    "</div>"
   ]
  },
  {
   "cell_type": "markdown",
   "metadata": {},
   "source": [
    "To get the impulse response $h[n]$, partial fraction expansion must be computed using `residuez`."
   ]
  },
  {
   "cell_type": "code",
   "execution_count": 11,
   "metadata": {},
   "outputs": [
    {
     "name": "stdout",
     "output_type": "stream",
     "text": [
      "Coefficients: [ 6.0000]\n",
      "Residues:     [-4.0000]\n",
      "Poles:        [ 0.3333]\n"
     ]
    },
    {
     "data": {
      "text/html": [
       "$$6.0 + \\frac{-4.0}{ 1 - 0.3333333333333333 z^{-1}}$$"
      ],
      "text/plain": [
       "<IPython.core.display.HTML object>"
      ]
     },
     "execution_count": 11,
     "metadata": {},
     "output_type": "execute_result"
    }
   ],
   "source": [
    "b = [2, -2]\n",
    "a = [1, -1/3]\n",
    "utils.partial_fraction(b, a)"
   ]
  },
  {
   "cell_type": "markdown",
   "metadata": {},
   "source": [
    "Using this result, we have:"
   ]
  },
  {
   "cell_type": "markdown",
   "metadata": {},
   "source": [
    "$$\n",
    "H(z) = \\frac{2-2z^{-1}}{1-\\frac{1}{3} z^{-1}}\n",
    " = 6 + \\frac{-4}{1-\\frac{1}{3} z^{-1}}\n",
    "$$"
   ]
  },
  {
   "cell_type": "markdown",
   "metadata": {},
   "source": [
    "Once the partial fraction expansion is computed, we can take the inverse $z$-transform of each term in $H(z)$. We can use a lookup table to find common $z$-transform pairs:\n",
    "\n",
    "\n",
    "<img src=\"figures/lecture-01/table-3.1-common-z-transform-pairs.png\" width=\"500\" />\n",
    "\n",
    "\n",
    "\n",
    "\n",
    "\n",
    "\n",
    "\n",
    "\n",
    "\n",
    "\n",
    "\n",
    "\n",
    "\n",
    "\n"
   ]
  },
  {
   "cell_type": "markdown",
   "metadata": {},
   "source": [
    "In our case, we can use following pairs:\n",
    "\n",
    "\\begin{align}\n",
    "\\delta[n]  &\\longleftrightarrow 1 \\\\\n",
    "c a^n u[n] &\\longleftrightarrow \\frac{c}{1-az^{-1}}\n",
    "\\end{align}\n",
    "\n"
   ]
  },
  {
   "cell_type": "markdown",
   "metadata": {},
   "source": [
    "The final solution is:"
   ]
  },
  {
   "cell_type": "markdown",
   "metadata": {},
   "source": [
    "$$\n",
    "h[n] = 6\\delta[n] -4 \\left( \\frac{1}{3} \\right)^n u[n]\n",
    "$$"
   ]
  },
  {
   "cell_type": "markdown",
   "metadata": {},
   "source": [
    "----\n",
    "### Exercise 3.16 b)\n"
   ]
  },
  {
   "cell_type": "markdown",
   "metadata": {},
   "source": [
    "We need to find the output $y[n]$ for the input $x[n] = (1/2)^n u[n]$."
   ]
  },
  {
   "cell_type": "markdown",
   "metadata": {},
   "source": [
    "One method is of solving it by convolution: $y[n] = h[n] * x[n]$."
   ]
  },
  {
   "cell_type": "markdown",
   "metadata": {},
   "source": [
    "A simpler method is to compute it in $z$-domain. For this, we need to take the $z$-transform  of $x[n]$.\n",
    "\n",
    "$$\n",
    "X(z) = \\frac{1}{1 - \\frac{1}{2} z^{-1}}\n",
    "$$"
   ]
  },
  {
   "cell_type": "markdown",
   "metadata": {},
   "source": [
    "Next, we need to compute:\n",
    "\n",
    "$$\n",
    "Y(z) = H(z)X(z) = \\frac{2-2z^{-1}}{1-\\frac{1}{3} z^{-1}} \\cdot \\frac{1}{1 - \\frac{1}{2} z^{-1}}\n",
    "= \\frac{2 - 2z^{-1}}{ 1 - \\frac{5}{6} z^{-1}  + \\frac{1}{6} z^{-2} }\n",
    "$$"
   ]
  },
  {
   "cell_type": "markdown",
   "metadata": {},
   "source": [
    "To convert $Y(z)$, we compute the partial fraction expansion using `residuez`:"
   ]
  },
  {
   "cell_type": "code",
   "execution_count": 13,
   "metadata": {},
   "outputs": [
    {
     "name": "stdout",
     "output_type": "stream",
     "text": [
      "Coefficients: [ 0.0000]\n",
      "Residues:     [ 8.0000, -6.0000]\n",
      "Poles:        [ 0.3333,  0.5000]\n"
     ]
    },
    {
     "data": {
      "text/html": [
       "$$\\frac{7.999999999999982}{ 1 - 0.33333333333333315 z^{-1}} + \\frac{-5.999999999999982}{ 1 - 0.5000000000000002 z^{-1}}$$"
      ],
      "text/plain": [
       "<IPython.core.display.HTML object>"
      ]
     },
     "execution_count": 13,
     "metadata": {},
     "output_type": "execute_result"
    }
   ],
   "source": [
    "b = [2, -2]\n",
    "a = [1, -5/6, 1/6]\n",
    "utils.partial_fraction(b, a)"
   ]
  },
  {
   "cell_type": "markdown",
   "metadata": {},
   "source": [
    "This means we have:\n",
    "\n",
    "$$\n",
    "Y(z) = \\frac{8}{1 - \\frac{1}{3} z^{-1}} +\n",
    "\\frac{-6}{1 - \\frac{1}{2} z^{-1}}\n",
    "$$"
   ]
  },
  {
   "cell_type": "markdown",
   "metadata": {},
   "source": [
    "Once the partial fraction expansion is computed, we can take the inverse $z$-transform of each term in $H(z)$."
   ]
  },
  {
   "cell_type": "markdown",
   "metadata": {},
   "source": [
    "In this case, we can use following pair:\n",
    "\n",
    "\\begin{align}\n",
    "c a^n u[n] &\\longleftrightarrow \\frac{c}{1-az^{-1}}\n",
    "\\end{align}"
   ]
  },
  {
   "cell_type": "markdown",
   "metadata": {},
   "source": [
    "This means that the output $y[n]$ is:"
   ]
  },
  {
   "cell_type": "markdown",
   "metadata": {},
   "source": [
    "$$\n",
    "y[n] = 8 \\left(\\frac{1}{3} \\right)^n u[n]  -6 \\left(\\frac{1}{2} \\right)^n u[n]\n",
    "$$"
   ]
  },
  {
   "cell_type": "markdown",
   "metadata": {},
   "source": [
    "---\n",
    "## Problem 5.11\n",
    "\n",
    "<img src=\"figures/homework-01/problem-5.11.png\" width=\"800\" />\n"
   ]
  },
  {
   "cell_type": "code",
   "execution_count": null,
   "metadata": {},
   "outputs": [],
   "source": []
  },
  {
   "cell_type": "markdown",
   "metadata": {},
   "source": [
    "---\n",
    "## ADSI Problem 1.1"
   ]
  },
  {
   "cell_type": "markdown",
   "metadata": {},
   "source": [
    "\n",
    "\n",
    "<img src=\"figures/adsi-problems/1.1.png\" width=\"700\" />\n",
    "\n",
    "\n"
   ]
  },
  {
   "cell_type": "markdown",
   "metadata": {},
   "source": [
    "<img src=\"figures/adsi-problems/1.1-1.png\" width=\"700\" />\n",
    "\n",
    "\n",
    "\n"
   ]
  },
  {
   "cell_type": "markdown",
   "metadata": {},
   "source": [
    "<img src=\"figures/adsi-problems/1.1-2.png\" width=\"700\" />\n",
    "\n",
    "\n",
    "\n"
   ]
  },
  {
   "cell_type": "markdown",
   "metadata": {},
   "source": [
    "<img src=\"figures/adsi-problems/1.1-3.png\" width=\"700\" />\n"
   ]
  },
  {
   "cell_type": "markdown",
   "metadata": {},
   "source": [
    "---\n",
    "## ADSI Problem 1.2\n",
    "\n"
   ]
  },
  {
   "cell_type": "markdown",
   "metadata": {},
   "source": [
    "<img src=\"figures/adsi-problems/1.2-1.png\" width=\"700\" />\n",
    "\n",
    "\n",
    "\n",
    "\n",
    "\n",
    "\n"
   ]
  },
  {
   "cell_type": "markdown",
   "metadata": {},
   "source": [
    "<img src=\"figures/adsi-problems/1.2-2.png\" width=\"700\" />\n",
    "\n",
    "\n"
   ]
  },
  {
   "cell_type": "markdown",
   "metadata": {},
   "source": [
    "<img src=\"figures/adsi-problems/1.2-3.png\" width=\"700\" />\n"
   ]
  },
  {
   "cell_type": "markdown",
   "metadata": {},
   "source": [
    "---\n",
    "## ADSI Problem 1.3\n",
    "\n"
   ]
  },
  {
   "cell_type": "markdown",
   "metadata": {},
   "source": [
    "\n",
    "\n",
    "<img src=\"figures/adsi-problems/1.3-1.png\" width=\"700\" />\n",
    "\n",
    "\n",
    "\n",
    "\n"
   ]
  },
  {
   "cell_type": "markdown",
   "metadata": {},
   "source": [
    "\n",
    "\n",
    "<img src=\"figures/adsi-problems/1.3-2.png\" width=\"700\" />\n",
    "\n",
    "\n",
    "\n",
    "\n"
   ]
  },
  {
   "cell_type": "markdown",
   "metadata": {},
   "source": [
    "\n",
    "\n",
    "<img src=\"figures/adsi-problems/1.3-3.png\" width=\"700\" />\n",
    "\n",
    "\n",
    "\n",
    "\n"
   ]
  },
  {
   "cell_type": "markdown",
   "metadata": {},
   "source": [
    "\n",
    "\n",
    "<img src=\"figures/adsi-problems/1.3-4.png\" width=\"700\" />\n",
    "\n",
    "\n",
    "\n",
    "\n"
   ]
  },
  {
   "cell_type": "markdown",
   "metadata": {},
   "source": [
    "\n",
    "\n",
    "<img src=\"figures/adsi-problems/1.3-4.png\" width=\"700\" />\n",
    "\n",
    "\n",
    "\n",
    "\n"
   ]
  }
 ],
 "metadata": {
  "kernelspec": {
   "display_name": "Python 3",
   "language": "python",
   "name": "python3"
  },
  "language_info": {
   "codemirror_mode": {
    "name": "ipython",
    "version": 3
   },
   "file_extension": ".py",
   "mimetype": "text/x-python",
   "name": "python",
   "nbconvert_exporter": "python",
   "pygments_lexer": "ipython3",
   "version": "3.7.1"
  }
 },
 "nbformat": 4,
 "nbformat_minor": 2
}
